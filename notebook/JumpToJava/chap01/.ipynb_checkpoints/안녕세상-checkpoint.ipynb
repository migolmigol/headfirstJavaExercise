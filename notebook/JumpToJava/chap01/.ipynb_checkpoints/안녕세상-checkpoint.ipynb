{
 "cells": [
  {
   "cell_type": "markdown",
   "metadata": {},
   "source": [
    "## 뭐라뭐라함 요약"
   ]
  },
  {
   "cell_type": "markdown",
   "metadata": {},
   "source": [
    "자바는 처음 배우기 어려운 언어다.\n",
    "왜냐, 보일러 플레이트(겉치례)가 많아서"
   ]
  },
  {
   "cell_type": "markdown",
   "metadata": {},
   "source": [
    "자바코드는 다음처럼 타입을 명시해야하고 끝에 꼭 세미콜론도 넣어줘야 한다.\n",
    "\n",
    "```\n",
    "String x = \"\";\n",
    "```\n",
    "\n",
    "자바스크립트는?\n",
    "\n",
    "```\n",
    "x = ''\n",
    "```\n",
    "\n",
    "파이썬도 비슷하다\n",
    "\n",
    "```\n",
    "x = ''\n",
    "```"
   ]
  },
  {
   "cell_type": "markdown",
   "metadata": {},
   "source": [
    "뭐시냐. JDK 설치하고 PATH 설정하고 그걸로 .java 를 .class 로 컴파일 하고 jvm 으로 실행하면 어쩌고..."
   ]
  },
  {
   "cell_type": "markdown",
   "metadata": {},
   "source": [
    "이클립스 설치 **안해!!!!!**\n",
    "\n",
    "지금 도커포윈도우즈-비커x 깔아서 돌리는 이유가 이클립스 깔기 싫어서 그래.\n",
    "\n",
    "꺼이꺼이. 자바 프로젝트 들어가면 죄다 이클립스 쓰니까 짜잉."
   ]
  },
  {
   "cell_type": "markdown",
   "metadata": {},
   "source": [
    "## 메인 메소드"
   ]
  },
  {
   "cell_type": "markdown",
   "metadata": {},
   "source": [
    "코드 치는 것도 귀찮. 끄으..\n",
    "\n",
    "jvm 으로 자바 코드 진잆 시 시작점이 된다."
   ]
  },
  {
   "cell_type": "code",
   "execution_count": 18,
   "metadata": {},
   "outputs": [
    {
     "data": {
      "text/plain": [
       "jump2java.HelloWorld"
      ]
     },
     "execution_count": 18,
     "metadata": {},
     "output_type": "execute_result"
    }
   ],
   "source": [
    "package jump2java;\n",
    "\n",
    "// 참 피곤한 언어인게 클래스 없이 함수(메소드)만 존재할 수없다.\n",
    "public class HelloWorld {\n",
    "    /*\n",
    "    * public 외부에서 아무나 접근 가능\n",
    "    * staic 클래스를 new 키워드로 메모리 상에 생성하지 않아도 \n",
    "    *      처음부터 메모리에 만들어 끝날 때까지 유지함\n",
    "    * void 실행 결과로 호출한 곳에 돌려줄 것이 없음\n",
    "    */\n",
    "    public static void main(String args[]) {\n",
    "        System.out.println(\"Hello World\");\n",
    "    }\n",
    "    \n",
    "    public static void runMainWithArgs(){\n",
    "        String[] args = { \"\",\"\" };\n",
    "        main(args);\n",
    "    }\n",
    "}"
   ]
  },
  {
   "cell_type": "code",
   "execution_count": 19,
   "metadata": {},
   "outputs": [
    {
     "name": "stdout",
     "output_type": "stream",
     "text": [
      "Hello World\n"
     ]
    },
    {
     "data": {
      "text/plain": [
       "null"
      ]
     },
     "execution_count": 19,
     "metadata": {},
     "output_type": "execute_result"
    }
   ],
   "source": [
    "jump2java.HelloWorld.runMainWithArgs();"
   ]
  },
  {
   "cell_type": "markdown",
   "metadata": {},
   "source": [
    "아으 끝났다."
   ]
  }
 ],
 "metadata": {
  "kernelspec": {
   "display_name": "Java",
   "language": "java",
   "name": "java"
  },
  "language_info": {
   "codemirror_mode": "text/x-java",
   "file_extension": ".java",
   "mimetype": "",
   "name": "Java",
   "nbconverter_exporter": "",
   "version": "1.8.0_152-release"
  },
  "toc": {
   "base_numbering": 1,
   "nav_menu": {},
   "number_sections": false,
   "sideBar": false,
   "skip_h1_title": false,
   "title_cell": "Table of Contents",
   "title_sidebar": "Contents",
   "toc_cell": false,
   "toc_position": {},
   "toc_section_display": false,
   "toc_window_display": false
  }
 },
 "nbformat": 4,
 "nbformat_minor": 2
}
