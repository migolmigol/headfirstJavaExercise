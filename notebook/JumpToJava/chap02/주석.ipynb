{
 "cells": [
  {
   "cell_type": "markdown",
   "metadata": {},
   "source": [
    "##  주석"
   ]
  },
  {
   "cell_type": "markdown",
   "metadata": {},
   "source": [
    "### 블럭과 줄 주석"
   ]
  },
  {
   "cell_type": "code",
   "execution_count": 4,
   "metadata": {},
   "outputs": [
    {
     "data": {
      "text/plain": [
       "null"
      ]
     },
     "execution_count": 4,
     "metadata": {},
     "output_type": "execute_result"
    }
   ],
   "source": [
    "/*\n",
    "커다란 블록으로\n",
    "된 주석이다.\n",
    "여러 줄이 들어갈 수 있다.\n",
    "*/"
   ]
  },
  {
   "cell_type": "code",
   "execution_count": 5,
   "metadata": {},
   "outputs": [
    {
     "data": {
      "text/plain": [
       "null"
      ]
     },
     "execution_count": 5,
     "metadata": {},
     "output_type": "execute_result"
    }
   ],
   "source": [
    "// 줄 주석은 한 줄만 주석. 위에도 달고\n",
    "int x = 2; // 줄 주석은 한 줄만 주석. 요렇게 세미콜론 옆에도 단다."
   ]
  },
  {
   "cell_type": "code",
   "execution_count": 6,
   "metadata": {},
   "outputs": [
    {
     "data": {
      "text/plain": [
       "null"
      ]
     },
     "execution_count": 6,
     "metadata": {},
     "output_type": "execute_result"
    }
   ],
   "source": [
    "// 컴파일러가 코드를 읽지 못하게 해서 실행을 막을 때도 쓴다.\n",
    "// int x = 3;  "
   ]
  },
  {
   "cell_type": "markdown",
   "metadata": {},
   "source": [
    "###  주석에 관한 잡담"
   ]
  },
  {
   "cell_type": "markdown",
   "metadata": {},
   "source": [
    "1. 주석을 달 필요가 없을 정도로 변수명과 메소드 명만 보면 단박에 알아채는 코드 작성이 먼저. \n",
    "     \n",
    "     > 동작하는 깨끗한 코드. Clean code that works.\n",
    "     \n",
    "2. 변수명이나 메소드 명 혹은 내부 로직이 너무 복잡한 경우는 주석을 달아준다.\n",
    "3. 너무 기본적 수준의 주석은 달지 않음. \n",
    "    \n",
    "    ```java\n",
    "    a+b;// 둘을 더한다.\n",
    "    ```\n",
    "4. 원본 코드가 바뀌면 주석도 그에 맞춰 업데이트 해준다. 귀찮아서 버려두면 주석은 쓰레기 코드가 됨."
   ]
  },
  {
   "cell_type": "code",
   "execution_count": null,
   "metadata": {},
   "outputs": [],
   "source": []
  }
 ],
 "metadata": {
  "kernelspec": {
   "display_name": "Java",
   "language": "java",
   "name": "java"
  },
  "language_info": {
   "codemirror_mode": "text/x-java",
   "file_extension": ".java",
   "mimetype": "",
   "name": "Java",
   "nbconverter_exporter": "",
   "version": "1.8.0_152-release"
  },
  "toc": {
   "base_numbering": 1,
   "nav_menu": {},
   "number_sections": false,
   "sideBar": false,
   "skip_h1_title": false,
   "title_cell": "Table of Contents",
   "title_sidebar": "Contents",
   "toc_cell": false,
   "toc_position": {},
   "toc_section_display": false,
   "toc_window_display": false
  }
 },
 "nbformat": 4,
 "nbformat_minor": 2
}
