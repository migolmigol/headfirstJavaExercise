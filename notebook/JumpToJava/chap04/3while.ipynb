{
 "cells": [
  {
   "cell_type": "markdown",
   "metadata": {},
   "source": [
    "조건 반복"
   ]
  },
  {
   "cell_type": "code",
   "execution_count": 1,
   "metadata": {},
   "outputs": [
    {
     "name": "stdout",
     "output_type": "stream",
     "text": [
      "시도\n",
      "시도\n",
      "시도\n",
      "시도\n",
      "시도\n",
      "시도\n",
      "시도\n",
      "시도\n",
      "시도\n",
      "시도\n"
     ]
    },
    {
     "data": {
      "text/plain": [
       "null"
      ]
     },
     "execution_count": 1,
     "metadata": {},
     "output_type": "execute_result"
    }
   ],
   "source": [
    "int tryCount = 0;\n",
    "while(tryCount < 10){\n",
    "    System.out.println(\"시도\");\n",
    "    tryCount ++;\n",
    "}"
   ]
  },
  {
   "cell_type": "markdown",
   "metadata": {},
   "source": [
    "무한루프 빠져나가기"
   ]
  },
  {
   "cell_type": "code",
   "execution_count": 3,
   "metadata": {},
   "outputs": [
    {
     "name": "stdout",
     "output_type": "stream",
     "text": [
      "시도\n",
      "시도\n",
      "시도\n",
      "시도\n",
      "시도\n",
      "시도\n",
      "시도\n",
      "시도\n",
      "시도\n",
      "시도\n"
     ]
    },
    {
     "data": {
      "text/plain": [
       "null"
      ]
     },
     "execution_count": 3,
     "metadata": {},
     "output_type": "execute_result"
    }
   ],
   "source": [
    "int tryCount = 0;\n",
    "while(true){\n",
    "    System.out.println(\"시도\");\n",
    "    tryCount ++;\n",
    "    if(tryCount == 10){\n",
    "        break;\n",
    "    }\n",
    "}"
   ]
  },
  {
   "cell_type": "markdown",
   "metadata": {},
   "source": [
    "하나의 루프 중간에 다음 루프로 넘어가버리기"
   ]
  },
  {
   "cell_type": "code",
   "execution_count": 5,
   "metadata": {},
   "outputs": [
    {
     "name": "stdout",
     "output_type": "stream",
     "text": [
      "시\n",
      "시\n",
      "시\n",
      "시\n",
      "시\n",
      "시\n",
      "시\n",
      "시\n",
      "시\n",
      "시\n",
      "도\n"
     ]
    },
    {
     "data": {
      "text/plain": [
       "null"
      ]
     },
     "execution_count": 5,
     "metadata": {},
     "output_type": "execute_result"
    }
   ],
   "source": [
    "int tryCount = 0;\n",
    "while(true){\n",
    "    System.out.println(\"시\");\n",
    "    tryCount ++;\n",
    "    if(tryCount < 10){\n",
    "        continue;\n",
    "    }else if(tryCount == 10){\n",
    "        System.out.println(\"도\");\n",
    "        break;\n",
    "    }\n",
    "}"
   ]
  },
  {
   "cell_type": "code",
   "execution_count": null,
   "metadata": {},
   "outputs": [],
   "source": []
  }
 ],
 "metadata": {
  "kernelspec": {
   "display_name": "Java",
   "language": "java",
   "name": "java"
  },
  "language_info": {
   "codemirror_mode": "text/x-java",
   "file_extension": ".java",
   "mimetype": "",
   "name": "Java",
   "nbconverter_exporter": "",
   "version": "1.8.0_152-release"
  },
  "toc": {
   "base_numbering": 1,
   "nav_menu": {},
   "number_sections": false,
   "sideBar": false,
   "skip_h1_title": false,
   "title_cell": "Table of Contents",
   "title_sidebar": "Contents",
   "toc_cell": false,
   "toc_position": {},
   "toc_section_display": false,
   "toc_window_display": false
  }
 },
 "nbformat": 4,
 "nbformat_minor": 2
}
