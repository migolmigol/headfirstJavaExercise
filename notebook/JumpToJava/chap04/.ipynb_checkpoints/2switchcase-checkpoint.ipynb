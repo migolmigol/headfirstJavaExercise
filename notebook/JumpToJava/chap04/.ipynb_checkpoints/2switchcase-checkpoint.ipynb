{
 "cells": [
  {
   "cell_type": "markdown",
   "metadata": {},
   "source": [
    "다 아는 걸 자꾸 쓰려니까 너무 힘이 들고 짜증이 난다.\n",
    "\n",
    "반복하는 건 무쟈게 힘이 많이 드는구나."
   ]
  },
  {
   "cell_type": "code",
   "execution_count": 2,
   "metadata": {},
   "outputs": [
    {
     "data": {
      "text/plain": [
       "com.twosigma.beaker.javash.bkr687f8672.SwitchDemo"
      ]
     },
     "execution_count": 2,
     "metadata": {},
     "output_type": "execute_result"
    }
   ],
   "source": [
    "public class SwitchDemo {\n",
    "    public void run() {\n",
    "        int month = 8;\n",
    "        String monthString = \"\";\n",
    "        switch (month) {\n",
    "            case 1:  monthString = \"January\";\n",
    "                     break;\n",
    "            case 2:  monthString = \"February\";\n",
    "                     break;\n",
    "            case 3:  monthString = \"March\";\n",
    "                     break;\n",
    "            case 4:  monthString = \"April\";\n",
    "                     break;\n",
    "            case 5:  monthString = \"May\";\n",
    "                     break;\n",
    "            case 6:  monthString = \"June\";\n",
    "                     break;\n",
    "            case 7:  monthString = \"July\";\n",
    "                     break;\n",
    "            case 8:  monthString = \"August\";\n",
    "                     break;\n",
    "            case 9:  monthString = \"September\";\n",
    "                     break;\n",
    "            case 10: monthString = \"October\";\n",
    "                     break;\n",
    "            case 11: monthString = \"November\";\n",
    "                     break;\n",
    "            case 12: monthString = \"December\";\n",
    "                     break;\n",
    "            default: monthString = \"Invalid month\";\n",
    "                     break;\n",
    "        }\n",
    "        System.out.println(monthString);\n",
    "    }\n",
    "}"
   ]
  },
  {
   "cell_type": "code",
   "execution_count": 4,
   "metadata": {},
   "outputs": [
    {
     "name": "stdout",
     "output_type": "stream",
     "text": [
      "August\n"
     ]
    },
    {
     "data": {
      "text/plain": [
       "null"
      ]
     },
     "execution_count": 4,
     "metadata": {},
     "output_type": "execute_result"
    }
   ],
   "source": [
    "new SwitchDemo().run();"
   ]
  },
  {
   "cell_type": "code",
   "execution_count": null,
   "metadata": {},
   "outputs": [],
   "source": []
  }
 ],
 "metadata": {
  "kernelspec": {
   "display_name": "Java",
   "language": "java",
   "name": "java"
  },
  "language_info": {
   "codemirror_mode": "text/x-java",
   "file_extension": ".java",
   "mimetype": "",
   "name": "Java",
   "nbconverter_exporter": "",
   "version": "1.8.0_152-release"
  },
  "toc": {
   "base_numbering": 1,
   "nav_menu": {},
   "number_sections": false,
   "sideBar": false,
   "skip_h1_title": false,
   "title_cell": "Table of Contents",
   "title_sidebar": "Contents",
   "toc_cell": false,
   "toc_position": {},
   "toc_section_display": false,
   "toc_window_display": false
  }
 },
 "nbformat": 4,
 "nbformat_minor": 2
}
