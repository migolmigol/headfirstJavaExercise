{
 "cells": [
  {
   "cell_type": "markdown",
   "metadata": {},
   "source": [
    "아 이걸 다 쓰기 지겹다."
   ]
  },
  {
   "cell_type": "markdown",
   "metadata": {},
   "source": [
    "## 비교연산자"
   ]
  },
  {
   "cell_type": "markdown",
   "metadata": {},
   "source": [
    "비교연산자|설명\n",
    "---|---\n",
    "x < y|x가 y보다 작다\n",
    "x > y|x가 y보다 크다\n",
    "x == y|x와 y가 같다\n",
    "x != y|x와 y가 같지 않다\n",
    "x >= y|x가 y보다 크거나 같다\n",
    "x <= y|x가 y보다 작거나 같다"
   ]
  },
  {
   "cell_type": "markdown",
   "metadata": {},
   "source": [
    "## and(&&), or(||), not(!)"
   ]
  },
  {
   "cell_type": "markdown",
   "metadata": {},
   "source": [
    "이 부분이 헷갈릴 수도 있지. 첨에 그렇다.\n",
    "\n",
    "- `x || y` - x 와 y 둘 중 하나가 참이면 참\n",
    "- `x && y` - x 와 y 둘 모두 참이어야 참\n",
    "- `!x` - x 가 거짓이면 참이다"
   ]
  },
  {
   "cell_type": "code",
   "execution_count": 20,
   "metadata": {},
   "outputs": [
    {
     "data": {
      "text/plain": [
       "com.twosigma.beaker.javash.bkra0464578.TobeOfNotTobe"
      ]
     },
     "execution_count": 20,
     "metadata": {},
     "output_type": "execute_result"
    }
   ],
   "source": [
    "import java.util.Random;\n",
    "\n",
    "public class TobeOfNotTobe{\n",
    "    \n",
    "    \n",
    "    // 주머니에 돈이 3천원 밖에 없네\n",
    "    int moneyInMyPocker = 3000;\n",
    "    \n",
    "    // 체크카드에는 4천원이 있네\n",
    "    int balanceInMyDebitCard = 4000;\n",
    "\n",
    "    // 그리고 눈 앞에 맛난 음식이 있는데 값을 모르겠다.\n",
    "    int deliciousFoodPrice;\n",
    "\n",
    "    // 점원에게 물어보면 값을 대답해 준다.\n",
    "    public int askPriceToClerk(Random random){\n",
    "        return random.nextInt(4000); // 0~4000 범위로 랜덤한 숫자 반환\n",
    "    }\n",
    "    \n",
    "    \n",
    "    public void run(){\n",
    "        \n",
    "        // 값을 물어보면\n",
    "        this.deliciousFoodPrice = this.askPriceToClerk(new Random());\n",
    "        \n",
    "        // 주머니 결제 가능한 지\n",
    "        boolean isPocketPayable = this.deliciousFoodPrice < this.moneyInMyPocker;\n",
    "        // 체크카드 결제 가능한 지 알게 될거야\n",
    "        boolean isDebitPayable =this.deliciousFoodPrice < this.balanceInMyDebitCard;\n",
    "            \n",
    "        \n",
    "        // 주머니나 체크카드 결제 가능하면 사고\n",
    "        if(isPocketPayable || isDebitPayable){\n",
    "            System.out.println( deliciousFoodPrice + \" 네\");\n",
    "            System.out.println(\"샀다. 냠냠\");\n",
    "            // 아니면 안 사야지.\n",
    "        }else{\n",
    "            System.out.println( deliciousFoodPrice + \" 네\");\n",
    "            System.out.println(\"못 사\");\n",
    "        }\n",
    "\n",
    "    }\n",
    "}\n"
   ]
  },
  {
   "cell_type": "code",
   "execution_count": 19,
   "metadata": {
    "scrolled": true
   },
   "outputs": [
    {
     "name": "stdout",
     "output_type": "stream",
     "text": [
      "3730네\n",
      "샀다. 냠냠\n"
     ]
    },
    {
     "data": {
      "text/plain": [
       "null"
      ]
     },
     "execution_count": 19,
     "metadata": {},
     "output_type": "execute_result"
    }
   ],
   "source": [
    "TobeOfNotTobe tont = new TobeOfNotTobe();\n",
    "\n",
    "tont.run();"
   ]
  },
  {
   "cell_type": "markdown",
   "metadata": {},
   "source": [
    "## contains"
   ]
  },
  {
   "cell_type": "code",
   "execution_count": 54,
   "metadata": {},
   "outputs": [
    {
     "data": {
      "text/plain": [
       "com.twosigma.beaker.javash.bkra0464578.DieOrAttack"
      ]
     },
     "execution_count": 54,
     "metadata": {},
     "output_type": "execute_result"
    }
   ],
   "source": [
    "import java.util.Random;\n",
    "import java.util.ArrayList;\n",
    "import java.util.List;\n",
    "\n",
    "public class DieOrAttack{\n",
    "    \n",
    "    public Random rand = new Random();\n",
    "    \n",
    "    public ArrayList<String> myBag = new ArrayList();\n",
    "    public ArrayList<String> robberBag = new ArrayList();\n",
    "    \n",
    "    public DieOrAttack (){\n",
    "        myBag.add(\"총\");\n",
    "        myBag.add(\"균\");\n",
    "        myBag.add(\"쇠\");\n",
    "        robberBag.add(\"방망\");\n",
    "        robberBag.add(\"주먹\");\n",
    "        robberBag.add(\"총\");\n",
    "    }\n",
    "    \n",
    "    public String seeRobber(){\n",
    "        Random rand = new Random();\n",
    "        int index = rand.nextInt(2);\n",
    "        return this.robberBag.get(index);\n",
    "    }\n",
    "    \n",
    "    public void run(){\n",
    "        \n",
    "        String robberPick = this.seeRobber();\n",
    "        boolean hePickaBat = robberPick.equals(\"방망\") ? true : false;\n",
    "        boolean hePickAFist = robberPick.equals(\"주먹\") ? true : false;\n",
    "        boolean hePickAGun = robberPick.equals(\"총\") ? true : false;\n",
    "        \n",
    "        \n",
    "        // 강도가 선택한 공격수단에 맞춰 대항한다.\n",
    "        if(hePickaBat || hePickAFist){\n",
    "            System.out.println( robberPick + \"이네 쇠로 대응하자\");\n",
    "            System.out.println(\"깡깡 퍽퍽\");\n",
    "        }else{\n",
    "            System.out.println( robberPick + \"이네 총으로 대응하자\");\n",
    "            System.out.println(\"팡팡 퍽퍽\");\n",
    "        }\n",
    "\n",
    "    }\n",
    "}\n"
   ]
  },
  {
   "cell_type": "code",
   "execution_count": 55,
   "metadata": {
    "scrolled": true
   },
   "outputs": [
    {
     "name": "stdout",
     "output_type": "stream",
     "text": [
      "방망이네 쇠로 대응하자\n",
      "깡깡 퍽퍽\n"
     ]
    },
    {
     "data": {
      "text/plain": [
       "null"
      ]
     },
     "execution_count": 55,
     "metadata": {},
     "output_type": "execute_result"
    }
   ],
   "source": [
    "DieOrAttack doa = new DieOrAttack();\n",
    "\n",
    "doa.run();"
   ]
  },
  {
   "cell_type": "markdown",
   "metadata": {},
   "source": [
    "## else if"
   ]
  },
  {
   "cell_type": "code",
   "execution_count": 56,
   "metadata": {
    "scrolled": true
   },
   "outputs": [
    {
     "data": {
      "text/plain": [
       "com.twosigma.beaker.javash.bkra0464578.DieOrAttack"
      ]
     },
     "execution_count": 56,
     "metadata": {},
     "output_type": "execute_result"
    }
   ],
   "source": [
    "import java.util.Random;\n",
    "import java.util.ArrayList;\n",
    "import java.util.List;\n",
    "\n",
    "public class DieOrAttack{\n",
    "    \n",
    "    public Random rand = new Random();\n",
    "    \n",
    "    public ArrayList<String> myBag = new ArrayList();\n",
    "    public ArrayList<String> robberBag = new ArrayList();\n",
    "    \n",
    "    public DieOrAttack (){\n",
    "        myBag.add(\"총\");\n",
    "        myBag.add(\"균\");\n",
    "        myBag.add(\"쇠\");\n",
    "        robberBag.add(\"방망\");\n",
    "        robberBag.add(\"주먹\");\n",
    "        robberBag.add(\"총\");\n",
    "    }\n",
    "    \n",
    "    public String seeRobber(){\n",
    "        Random rand = new Random();\n",
    "        int index = rand.nextInt(2);\n",
    "        return this.robberBag.get(index);\n",
    "    }\n",
    "    \n",
    "    public void run(){\n",
    "        \n",
    "        String robberPick = this.seeRobber();\n",
    "        boolean hePickaBat = robberPick.equals(\"방망\") ? true : false;\n",
    "        boolean hePickAFist = robberPick.equals(\"주먹\") ? true : false;\n",
    "        boolean hePickAGun = robberPick.equals(\"총\") ? true : false;\n",
    "        \n",
    "        \n",
    "        // 강도가 선택한 공격수단에 맞춰 대항한다.\n",
    "        if(hePickAFist){\n",
    "            System.out.println( robberPick + \"이네 쇠로 대응하자\");\n",
    "            System.out.println(\"깡깡 퍽퍽\");\n",
    "        }else if(hePickaBat){\n",
    "            System.out.println( robberPick + \"이네 쇠로 대응하자\");\n",
    "            System.out.println(\"깡깡 퍽퍽\");\n",
    "        }else{\n",
    "            System.out.println( robberPick + \"이네 총으로 대응하자\");\n",
    "            System.out.println(\"팡팡 퍽퍽\");\n",
    "        }\n",
    "\n",
    "    }\n",
    "}\n"
   ]
  },
  {
   "cell_type": "code",
   "execution_count": 57,
   "metadata": {
    "scrolled": true
   },
   "outputs": [
    {
     "name": "stdout",
     "output_type": "stream",
     "text": [
      "방망이네 쇠로 대응하자\n",
      "깡깡 퍽퍽\n"
     ]
    },
    {
     "data": {
      "text/plain": [
       "null"
      ]
     },
     "execution_count": 57,
     "metadata": {},
     "output_type": "execute_result"
    }
   ],
   "source": [
    "DieOrAttack doa = new DieOrAttack();\n",
    "\n",
    "doa.run();"
   ]
  },
  {
   "cell_type": "code",
   "execution_count": null,
   "metadata": {},
   "outputs": [],
   "source": []
  }
 ],
 "metadata": {
  "kernelspec": {
   "display_name": "Java",
   "language": "java",
   "name": "java"
  },
  "language_info": {
   "codemirror_mode": "text/x-java",
   "file_extension": ".java",
   "mimetype": "",
   "name": "Java",
   "nbconverter_exporter": "",
   "version": "1.8.0_152-release"
  },
  "toc": {
   "base_numbering": 1,
   "nav_menu": {},
   "number_sections": false,
   "sideBar": false,
   "skip_h1_title": false,
   "title_cell": "Table of Contents",
   "title_sidebar": "Contents",
   "toc_cell": false,
   "toc_position": {},
   "toc_section_display": false,
   "toc_window_display": false
  }
 },
 "nbformat": 4,
 "nbformat_minor": 2
}
