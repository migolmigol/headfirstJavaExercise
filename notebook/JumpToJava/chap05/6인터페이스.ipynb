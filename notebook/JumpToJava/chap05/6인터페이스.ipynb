{
 "cells": [
  {
   "cell_type": "markdown",
   "metadata": {},
   "source": [
    "##  구체적인 종(클래스, 타입) 제한의 불편함"
   ]
  },
  {
   "cell_type": "code",
   "execution_count": 3,
   "metadata": {},
   "outputs": [
    {
     "data": {
      "text/plain": [
       "com.twosigma.beaker.javash.bkrdcc1bb90.Mammalia"
      ]
     },
     "execution_count": 3,
     "metadata": {},
     "output_type": "execute_result"
    }
   ],
   "source": [
    "// 포유류라는 종은\n",
    "public class Mammalia{\n",
    "    // 공통적으로 젖샘을 가진다.\n",
    "    public String 젖샘 = \"어떤 젖샘\";\n",
    "    \n",
    "    // 공통적으로 젖을 빠는 행위를 한다.\n",
    "    public void 빨기(){\n",
    "        System.out.println(\"포유류가 \" + this.젖샘 + \"을 빤다.\");\n",
    "    }\n",
    "    \n",
    "    // 주 음식이 있지만 종마다 다르다.\n",
    "    public String food;\n",
    "    \n",
    "    // 먹이 종류를 알려준다.\n",
    "    public String getFood(){\n",
    "        return food;\n",
    "    }\n",
    "    \n",
    "    // 주 먹이를 먹는다.\n",
    "    public void eat(String food){\n",
    "        System.out.println(food +\"을/를 먹는다.\");\n",
    "    }\n",
    "}"
   ]
  },
  {
   "cell_type": "code",
   "execution_count": 4,
   "metadata": {},
   "outputs": [
    {
     "data": {
      "text/plain": [
       "com.twosigma.beaker.javash.bkrdcc1bb90.Human"
      ]
     },
     "execution_count": 4,
     "metadata": {},
     "output_type": "execute_result"
    }
   ],
   "source": [
    "// 인류라는 종은 포유류의 일(하위)종이다.\n",
    "public class Human extends Mammalia{\n",
    "    \n",
    "    // 생성할 때 맞는 음식을 정한다.\n",
    "    Human(String food){\n",
    "        super();\n",
    "        this.food = \"술 고기 채소 야채 잡식\";\n",
    "    }\n",
    "\n",
    "}"
   ]
  },
  {
   "cell_type": "code",
   "execution_count": null,
   "metadata": {},
   "outputs": [],
   "source": [
    "// 주머니 고양이는 포유류의 일(하위)종이다.\n",
    "public class PocketCat extends Mammalia{\n",
    "    \n",
    "    // 생성할 때 맞는 음식을 정한다.\n",
    "    PocketCat(String food){\n",
    "        super();\n",
    "        this.food = \"곤충\";\n",
    "    }\n",
    "}"
   ]
  },
  {
   "cell_type": "code",
   "execution_count": null,
   "metadata": {},
   "outputs": [],
   "source": [
    "// 바위 너구리는 포유류의 일(하위)종이다.\n",
    "public class RockRaccoon cat extends Mammalia{\n",
    "    \n",
    "    // 생성할 때 맞는 음식을 정한다.\n",
    "    RockRaccoon(String food){\n",
    "        super();\n",
    "        this.food = \"풀, 나뭇잎 관목 새싹 과일\";\n",
    "    }\n",
    "}"
   ]
  },
  {
   "cell_type": "code",
   "execution_count": null,
   "metadata": {},
   "outputs": [],
   "source": [
    "// 사육사는 먹이를 주는 속성이 있는 종이다.\n",
    "public class ZooKeeper {\n",
    "    \n",
    "    public void 먹이기(RockRaccoon rockracoon) {\n",
    "        rockracoon.eat(rockracoon.food);\n",
    "    }\n",
    "\n",
    "    public void 먹이기(PocketCat pocketcat) {\n",
    "        System.out.println(\"곤충\");\n",
    "    }\n",
    "    \n",
    "    public void 먹이기(Human human) {\n",
    "        System.out.println(\"술 고기 채소 야채\");\n",
    "    }\n",
    "\n",
    "}"
   ]
  },
  {
   "cell_type": "markdown",
   "metadata": {},
   "source": [
    "## 인터페이스를 통해 종(타입)을 추상화 시키기"
   ]
  },
  {
   "cell_type": "markdown",
   "metadata": {},
   "source": [
    "동물 종이 늘어날 때마다 사육사는 동물마다 뭘 먹일 지를 알고 있어야 한다.\n",
    "\n",
    "먹이기라는 같은 행위를 하는데 왜 이렇게 번잡해야 하는 걸까?\n",
    "\n",
    "사육사는 훈련을 통해서 먹이를 말해주는 속성을 동물에게 알려줘서 편하게 일을 하고자 한다.\n",
    "\n",
    "원래 가지지 않은 속성을 어떻게 추가할까? 바로 인터페이스를 통해서다."
   ]
  },
  {
   "cell_type": "code",
   "execution_count": 6,
   "metadata": {},
   "outputs": [
    {
     "data": {
      "text/plain": [
       "com.twosigma.beaker.javash.bkrdcc1bb90.Askable"
      ]
     },
     "execution_count": 6,
     "metadata": {},
     "output_type": "execute_result"
    }
   ],
   "source": [
    "// 묻기 가능한 추상적인 종은\n",
    "interface Askable{\n",
    "    // 음식을 물으면 문자열로 답해주는 추상적인 속성을 공통으로 가진다.\n",
    "    public String whatisYourFood();\n",
    "}"
   ]
  },
  {
   "cell_type": "code",
   "execution_count": 4,
   "metadata": {},
   "outputs": [
    {
     "data": {
      "text/plain": [
       "com.twosigma.beaker.javash.bkrdcc1bb90.Human"
      ]
     },
     "execution_count": 4,
     "metadata": {},
     "output_type": "execute_result"
    }
   ],
   "source": [
    "// 인류라는 종은 포유류의 일(하위)종이며 동시에 묻기 가능한 추상적인 종이다.\n",
    "public class Human extends Mammalia{\n",
    "    \n",
    "    // 생성할 때 맞는 음식을 정한다.\n",
    "    Human(String food){\n",
    "        super();\n",
    "        this.food = \"술 고기 채소 야채 잡식\";\n",
    "    }\n",
    "\n",
    "}"
   ]
  },
  {
   "cell_type": "code",
   "execution_count": 7,
   "metadata": {},
   "outputs": [
    {
     "data": {
      "text/plain": [
       "com.twosigma.beaker.javash.bkrdcc1bb90.PocketCat"
      ]
     },
     "execution_count": 7,
     "metadata": {},
     "output_type": "execute_result"
    }
   ],
   "source": [
    "// 주머니 고양이는 포유류의 일(하위)종이며 동시에 묻기 가능한 추상적인 종이다.\n",
    "public class PocketCat extends Mammalia implements Askable{\n",
    "    \n",
    "    // 사육사가 추상적으로 음식을 물어보면 동물마다 답변하는 건 구체적으로 다르다.\n",
    "    public String whatisYourFood(){\n",
    "        return this.food;\n",
    "    };\n",
    "    \n",
    "    // 생성할 때 맞는 음식을 정한다.\n",
    "    PocketCat(String food){\n",
    "        super();\n",
    "        this.food = \"곤충\";\n",
    "    }\n",
    "}"
   ]
  },
  {
   "cell_type": "code",
   "execution_count": null,
   "metadata": {},
   "outputs": [],
   "source": [
    "// 바위 너구리는 포유류의 일(하위)종이며 동시에 묻기 가능한 추상적인 종이다.\n",
    "public class RockRaccoon cat extends Mammalia implements Askable{\n",
    "    \n",
    "    // 생성할 때 맞는 음식을 정한다.\n",
    "    RockRaccoon(String food){\n",
    "        super();\n",
    "        this.food = \"풀, 나뭇잎 관목 새싹 과일\";\n",
    "    }\n",
    "}"
   ]
  },
  {
   "cell_type": "code",
   "execution_count": null,
   "metadata": {},
   "outputs": [],
   "source": [
    "// 사육사는 먹이를 주는 속성이 있는 종이다.\n",
    "public class ZooKeeper {\n",
    "    \n",
    "    public void 먹이기(RockRaccoon rockracoon) {\n",
    "        rockracoon.eat(rockracoon.food);\n",
    "    }\n",
    "\n",
    "    public void 먹이기(PocketCat pocketcat) {\n",
    "        System.out.println(\"곤충\");\n",
    "    }\n",
    "    \n",
    "    public void 먹이기(Human human) {\n",
    "        System.out.println(\"술 고기 채소 야채\");\n",
    "    }\n",
    "\n",
    "}"
   ]
  }
 ],
 "metadata": {
  "kernelspec": {
   "display_name": "Java",
   "language": "java",
   "name": "java"
  },
  "language_info": {
   "codemirror_mode": "text/x-java",
   "file_extension": ".java",
   "mimetype": "",
   "name": "Java",
   "nbconverter_exporter": "",
   "version": "1.8.0_152-release"
  },
  "toc": {
   "base_numbering": 1,
   "nav_menu": {},
   "number_sections": false,
   "sideBar": false,
   "skip_h1_title": false,
   "title_cell": "Table of Contents",
   "title_sidebar": "Contents",
   "toc_cell": false,
   "toc_position": {},
   "toc_section_display": false,
   "toc_window_display": false
  }
 },
 "nbformat": 4,
 "nbformat_minor": 2
}
