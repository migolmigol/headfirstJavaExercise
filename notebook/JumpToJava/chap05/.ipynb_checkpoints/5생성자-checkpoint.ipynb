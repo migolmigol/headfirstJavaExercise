{
 "cells": [
  {
   "cell_type": "markdown",
   "metadata": {},
   "source": [
    "생성자는 객체가 new 키워드로 메모리 세상에 생성될 때 실행될 작업을 정의하는 메서드다."
   ]
  },
  {
   "cell_type": "code",
   "execution_count": 17,
   "metadata": {},
   "outputs": [
    {
     "data": {
      "text/plain": [
       "com.twosigma.beaker.javash.bkrac28eb87.Mammalia"
      ]
     },
     "execution_count": 17,
     "metadata": {},
     "output_type": "execute_result"
    }
   ],
   "source": [
    "// 포유류라는 종은\n",
    "public class Mammalia{\n",
    "    // 공통적으로 젖샘을 가진다.\n",
    "    public String 젖샘;\n",
    "    \n",
    "    // 공통적으로 젖을 빠는 행위를 한다.\n",
    "    public void 빨기(){\n",
    "        System.out.println(\"포유류가 \" + this.젖샘 + \"을 빤다.\");\n",
    "    }\n",
    "    \n",
    "    //생성자는 new 키워드 사용시 실행된다.\n",
    "    public Mammalia(String 젖샘){\n",
    "        // 객체 생성 시 외부에서 젖샘값을 받아서 내부에 젖샘 멤버변수에 할당한다.\n",
    "        this.젖샘 = 젖샘;\n",
    "    }\n",
    "}"
   ]
  },
  {
   "cell_type": "code",
   "execution_count": 3,
   "metadata": {},
   "outputs": [
    {
     "ename": "constructor Mammalia in class com.twosigma.beaker.javash.bkrac28eb87.Mammalia cannot be applied to given types;",
     "evalue": "constructor Mammalia in class com.twosigma.beaker.javash.bkrac28eb87.Mammalia cannot be applied to given types;",
     "output_type": "error",
     "traceback": [
      "\u001b[0;31mconstructor Mammalia in class com.twosigma.beaker.javash.bkrac28eb87.Mammalia cannot be applied to given types;\u001b[0;0m",
      "\u001b[0;31m  required: java.lang.String\u001b[0;0m",
      "\u001b[0;31m  found: no arguments\u001b[0;0m",
      "\u001b[0;31m  reason: actual and formal argument lists differ in length\u001b[0;0m",
      "\u001b[0;31m Mammalia me = new Mammalia()\u001b[0;0m",
      "\u001b[0;31m               ^             ^ \u001b[0;0m"
     ]
    }
   ],
   "source": [
    "Mammalia me = new Mammalia();"
   ]
  },
  {
   "cell_type": "code",
   "execution_count": 5,
   "metadata": {},
   "outputs": [
    {
     "name": "stdout",
     "output_type": "stream",
     "text": [
      "포유류가 포유류젖샘을 빤다.\n"
     ]
    },
    {
     "data": {
      "text/plain": [
       "null"
      ]
     },
     "execution_count": 5,
     "metadata": {},
     "output_type": "execute_result"
    }
   ],
   "source": [
    "Mammalia me = new Mammalia(\"포유류젖샘\");\n",
    "me.빨기();"
   ]
  },
  {
   "cell_type": "markdown",
   "metadata": {},
   "source": [
    "상속 받은 자식 클래스에서 생성자가 없으면 어떤 일이 벌어질까?"
   ]
  },
  {
   "cell_type": "code",
   "execution_count": 16,
   "metadata": {},
   "outputs": [
    {
     "ename": "ERROR",
     "evalue": " java.lang.IllegalStateException",
     "output_type": "error",
     "traceback": [
      "\u001b[0;31mERROR: java.lang.IllegalStateException: constructor Mammalia in class com.twosigma.beaker.javash.bkrac28eb87.Mammalia cannot be applied to given types;\u001b[0;0m",
      "\u001b[0;31m  required: java.lang.String\u001b[0;0m",
      "\u001b[0;31m  found: no arguments\u001b[0;0m",
      "\u001b[0;31m  reason: actual and formal argument lists differ in length\u001b[0;0m",
      "\u001b[0;31m public class Human extends Mammalia{\u001b[0;0m",
      "\u001b[0;31m        ^                             \u001b[0;0m"
     ]
    }
   ],
   "source": [
    "// 인류라는 종은 포유류의 일(하위)종이다.\n",
    "public class Human extends Mammalia{\n",
    "    \n",
    "    // 보행할때 사용하는 다리개수는 2개\n",
    "    public int 보행사용다리개수 = 2;\n",
    "    \n",
    "    // 직립보행 행위를 한다.\n",
    "    public void 직립보행(){\n",
    "        System.out.println(\"인간이 \" + this.보행사용다리개수 + \"개의 다리로 직립보행.\");\n",
    "    }\n",
    "}"
   ]
  },
  {
   "cell_type": "markdown",
   "metadata": {},
   "source": [
    "자식 객체가 생성될 때 상속받은 부모의 생성자를 먼저 실행하고 그 후에 자식의 생성자를 실행한다.\n",
    "\n",
    "그런데, 포유류는 생성자에 문자열을 넣도록 되어 있는데 인류 클래스에는 현재 아무것도 해주지 않는다.\n",
    "\n",
    "\n",
    "`\n",
    "ERROR: java.lang.IllegalStateException: constructor Mammalia in class com.twosigma.beaker.javash.bkrac28eb87.Mammalia cannot be applied to given types;\n",
    "  required: java.lang.String\n",
    "  found: no arguments\n",
    "  reason: actual and formal argument lists differ in length\n",
    " public class Human extends Mammalia{\n",
    "`\n",
    "아래 와 같이 자식 생성자에서 먼저 부모 생성자를 호출하면서 필요한 매개변수를 넣어줌으로써 부모 클래스에 필요한 값을 모두 넣어서 생성해준 뒤에 그것을 상속한 자식 클래스로 객체를 만든다."
   ]
  },
  {
   "cell_type": "code",
   "execution_count": 26,
   "metadata": {},
   "outputs": [
    {
     "data": {
      "text/plain": [
       "com.twosigma.beaker.javash.bkrac28eb87.Human"
      ]
     },
     "execution_count": 26,
     "metadata": {},
     "output_type": "execute_result"
    }
   ],
   "source": [
    "// 인류라는 종은 포유류의 일(하위)종이다.\n",
    "public class Human extends Mammalia{\n",
    "    \n",
    "    // 보행할때 사용하는 다리개수\n",
    "    public int 보행사용다리개수;\n",
    "    \n",
    "    // 직립보행 행위를 한다.\n",
    "    public void 직립보행(){\n",
    "        System.out.println(\"인간이 \" + this.보행사용다리개수 + \"개의 다리로 직립보행.\");\n",
    "    }\n",
    "    \n",
    "    public Human(int i, String s){\n",
    "        super(s);\n",
    "        this.보행사용다리개수 = i;\n",
    "    }\n",
    "    \n",
    "}"
   ]
  },
  {
   "cell_type": "code",
   "execution_count": 27,
   "metadata": {},
   "outputs": [
    {
     "name": "stdout",
     "output_type": "stream",
     "text": [
      "인간이 2개의 다리로 직립보행.\n",
      "포유류가 인간의젖샘을 빤다.\n"
     ]
    },
    {
     "data": {
      "text/plain": [
       "null"
      ]
     },
     "execution_count": 27,
     "metadata": {},
     "output_type": "execute_result"
    }
   ],
   "source": [
    "Human h = new Human(2,\"인간의젖샘\");\n",
    "h.직립보행();\n",
    "h.빨기();"
   ]
  },
  {
   "cell_type": "code",
   "execution_count": null,
   "metadata": {},
   "outputs": [],
   "source": []
  }
 ],
 "metadata": {
  "kernelspec": {
   "display_name": "Java",
   "language": "java",
   "name": "java"
  },
  "language_info": {
   "codemirror_mode": "text/x-java",
   "file_extension": ".java",
   "mimetype": "",
   "name": "Java",
   "nbconverter_exporter": "",
   "version": "1.8.0_152-release"
  },
  "toc": {
   "base_numbering": 1,
   "nav_menu": {},
   "number_sections": false,
   "sideBar": false,
   "skip_h1_title": false,
   "title_cell": "Table of Contents",
   "title_sidebar": "Contents",
   "toc_cell": false,
   "toc_position": {},
   "toc_section_display": false,
   "toc_window_display": false
  }
 },
 "nbformat": 4,
 "nbformat_minor": 2
}
