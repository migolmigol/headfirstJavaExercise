{
 "cells": [
  {
   "cell_type": "markdown",
   "metadata": {},
   "source": [
    "## 상속 : ~일종의 관계"
   ]
  },
  {
   "cell_type": "markdown",
   "metadata": {},
   "source": [
    "class 는 공통 속성을 가진 것들의 묶음이라고 했다.\n",
    "\n",
    "즉, 젓샘을 가지고 젖을 먹는 속성을 가진 동물은 포유류라는 종(class)이라 볼 수 있다."
   ]
  },
  {
   "cell_type": "code",
   "execution_count": null,
   "metadata": {},
   "outputs": [],
   "source": [
    "// 포유류라는 종은\n",
    "public class Mammalia{\n",
    "    // 공통적으로 젖샘을 가진다.\n",
    "    public String 젖샘;\n",
    "    \n",
    "    // 공통적으로 젖을 빠는 행위를 한다.\n",
    "    public void 빨기(){\n",
    "        \n",
    "        System.out.println(\"포유류가 \" + this.젖샘 + \"을 빤다.\");\n",
    "        \n",
    "    }\n",
    "}"
   ]
  },
  {
   "cell_type": "markdown",
   "metadata": {},
   "source": [
    "그럼, 포유류에서 파생된 인류는 어떻게 표현할까?\n",
    "\n",
    "일단 인류는 두발로 걷는 직립 보행을 한다는 속성이 있다."
   ]
  },
  {
   "cell_type": "code",
   "execution_count": 8,
   "metadata": {},
   "outputs": [
    {
     "data": {
      "text/plain": [
       "com.twosigma.beaker.javash.bkrd07d8804.Human"
      ]
     },
     "execution_count": 8,
     "metadata": {},
     "output_type": "execute_result"
    }
   ],
   "source": [
    "// 인류라는 종은\n",
    "public class Human{\n",
    "    // 보행할때 사용하는 다리개수는 2개\n",
    "    public int 보행사용다리개수 = 2;\n",
    "    \n",
    "    // 직립보행 행위를 한다.\n",
    "    public void 직립보행(){\n",
    "        System.out.println(\"인간이 \" + this.보행사용다리개수 + \"개의 다리로 직립보행.\");\n",
    "    }\n",
    "}"
   ]
  },
  {
   "cell_type": "markdown",
   "metadata": {},
   "source": [
    "그런데 인류는 포유류인데 위의 정의대로면 젖을 빨 수 없다."
   ]
  },
  {
   "cell_type": "code",
   "execution_count": 9,
   "metadata": {},
   "outputs": [
    {
     "ename": "cannot find symbol",
     "evalue": "cannot find symbol",
     "output_type": "error",
     "traceback": [
      "\u001b[1;31mcannot find symbol\u001b[0;0m",
      "\u001b[1;31m  symbol:   method 젖빨기()\u001b[0;0m",
      "\u001b[0;31m  location: variable h of type com.twosigma.beaker.javash.bkrd07d8804.Human\u001b[0;0m",
      "\u001b[0;31m h.젖빨기()\u001b[0;0m",
      "\u001b[0;31m ^    ^   \u001b[0;0m"
     ]
    }
   ],
   "source": [
    "Human h = new Human();\n",
    "h.젖빨기();"
   ]
  },
  {
   "cell_type": "markdown",
   "metadata": {},
   "source": [
    "물론 젖빨기 속성을 인간에 구현하면 되긴 한데 이미 작성한 코드를 재사용할 수 없을까?\n",
    "\n",
    "그러니까. 수직 관계의 두 객체가 있다면, 상위 객체의 속성을 하위 객체에서 일일히 작성하지 않고도 사용할 수 있지 않을까?\n",
    "\n",
    "가능하다."
   ]
  },
  {
   "cell_type": "code",
   "execution_count": 23,
   "metadata": {},
   "outputs": [
    {
     "data": {
      "text/plain": [
       "com.twosigma.beaker.javash.bkrd07d8804.Mammalia"
      ]
     },
     "execution_count": 23,
     "metadata": {},
     "output_type": "execute_result"
    }
   ],
   "source": [
    "// 포유류라는 종은\n",
    "public class Mammalia{\n",
    "    // 공통적으로 젖샘을 가진다.\n",
    "    public String 젖샘 = \"어떤 젖샘\";\n",
    "    \n",
    "    // 공통적으로 젖을 빠는 행위를 한다.\n",
    "    public void 빨기(){\n",
    "        System.out.println(\"포유류가 \" + this.젖샘 + \"을 빤다.\");\n",
    "    }\n",
    "}"
   ]
  },
  {
   "cell_type": "code",
   "execution_count": 24,
   "metadata": {},
   "outputs": [
    {
     "data": {
      "text/plain": [
       "com.twosigma.beaker.javash.bkrd07d8804.Human"
      ]
     },
     "execution_count": 24,
     "metadata": {},
     "output_type": "execute_result"
    }
   ],
   "source": [
    "// 인류라는 종은 포유류의 일(하위)종이다.\n",
    "public class Human extends Mammalia{\n",
    "    \n",
    "    // 보행할때 사용하는 다리개수는 2개\n",
    "    public int 보행사용다리개수 = 2;\n",
    "    \n",
    "    // 직립보행 행위를 한다.\n",
    "    public void 직립보행(){\n",
    "        System.out.println(\"인간이 \" + this.보행사용다리개수 + \"개의 다리로 직립보행.\");\n",
    "    }\n",
    "}"
   ]
  },
  {
   "cell_type": "code",
   "execution_count": 25,
   "metadata": {},
   "outputs": [
    {
     "name": "stdout",
     "output_type": "stream",
     "text": [
      "포유류가 어떤 젖샘을 빤다.\n"
     ]
    },
    {
     "data": {
      "text/plain": [
       "null"
      ]
     },
     "execution_count": 25,
     "metadata": {},
     "output_type": "execute_result"
    }
   ],
   "source": [
    "Human h = new Human();\n",
    "h.빨기();"
   ]
  },
  {
   "cell_type": "markdown",
   "metadata": {},
   "source": [
    "위 처럼 상위 종의 속성을 하위 종에서 사용할 수 있게 하는 것을 상속이라고 표현한다.\n",
    "\n",
    "상속을 사용하면 특별한 속성이 추가된 하위 종을 여럿 만들 때 상위 종을 정의한 클래스를 재사용하면 된다."
   ]
  },
  {
   "cell_type": "markdown",
   "metadata": {},
   "source": [
    "## 메소드 시그니쳐"
   ]
  },
  {
   "cell_type": "markdown",
   "metadata": {},
   "source": [
    "자바 컴파일러가 메소드를 어떻게 구분하는 지 아시나?\n",
    "\n",
    "바로 메소드 시그니처를 가지고 구분한다.\n",
    "\n",
    "`메소드 이름(인자타입 인자이름, ... 인자의 개수)`\n",
    "\n",
    "메소드의 생김새를 가지고 판단하는데 주로 인자 타입과 인자 개수를 가지고 메소드를 구분한다."
   ]
  },
  {
   "cell_type": "markdown",
   "metadata": {},
   "source": [
    "## 메소드 오버라이딩"
   ]
  },
  {
   "cell_type": "markdown",
   "metadata": {},
   "source": [
    "메소드 오버라이딩은 상속 받은 부모의 메소드와 같은 메소드 시그니쳐로 메소드를 정의해서 부모의 동작을 아예 대체해 버리는 것이다."
   ]
  },
  {
   "cell_type": "code",
   "execution_count": 12,
   "metadata": {},
   "outputs": [
    {
     "data": {
      "text/plain": [
       "com.twosigma.beaker.javash.bkr7e98d4cf.Up"
      ]
     },
     "execution_count": 12,
     "metadata": {},
     "output_type": "execute_result"
    }
   ],
   "source": [
    "public class Up{\n",
    "    public void talk(String s){\n",
    "        System.out.println(\"부모 메소드 동작\");\n",
    "        System.out.println(s);\n",
    "    }\n",
    "}"
   ]
  },
  {
   "cell_type": "code",
   "execution_count": 16,
   "metadata": {},
   "outputs": [
    {
     "data": {
      "text/plain": [
       "com.twosigma.beaker.javash.bkr7e98d4cf.UpChild"
      ]
     },
     "execution_count": 16,
     "metadata": {},
     "output_type": "execute_result"
    }
   ],
   "source": [
    "public class UpChild extends Up{\n",
    "    public void talk(String s){\n",
    "        System.out.println(\"부모와 같은 메소드 시그니쳐, 같은 메소드 이름과 매개변수 타입과 개수 동일\");\n",
    "        System.out.println(\"대체(오버라이드된) 자식 메소드의 동작\");\n",
    "        System.out.println(s);\n",
    "    }\n",
    "}"
   ]
  },
  {
   "cell_type": "code",
   "execution_count": 17,
   "metadata": {},
   "outputs": [
    {
     "name": "stdout",
     "output_type": "stream",
     "text": [
      "부모 메소드 동작\n",
      "ss\n",
      "\n",
      "부모와 같은 메소드 시그니쳐, 같은 메소드 이름과 매개변수 타입과 개수 동일\n",
      "대체(오버라이드된) 자식 메소드의 동작\n",
      "ss\n"
     ]
    },
    {
     "data": {
      "text/plain": [
       "null"
      ]
     },
     "execution_count": 17,
     "metadata": {},
     "output_type": "execute_result"
    }
   ],
   "source": [
    "Up u = new Up();\n",
    "UpChild uc = new UpChild();\n",
    "\n",
    "u.talk(\"ss\");\n",
    "\n",
    "System.out.println(\"\");\n",
    "\n",
    "uc.talk(\"ss\");\n"
   ]
  },
  {
   "cell_type": "markdown",
   "metadata": {},
   "source": [
    "## 메소드 오버로딩 "
   ]
  },
  {
   "cell_type": "markdown",
   "metadata": {},
   "source": [
    "오버라이딩은 부모와 똑같은 메소드 시그니쳐로 메소드를 재정의해서 동작을 바꿔버리는 것.\n",
    "\n",
    "오버로딩은 시그니쳐를 바꾼 여러 버전의 메소드를 만드는 것.\n",
    "\n",
    "즉, 이름은 같지만 매개변수 타입과 개수를 바꾼 메소드를 만든다."
   ]
  },
  {
   "cell_type": "code",
   "execution_count": 18,
   "metadata": {},
   "outputs": [
    {
     "data": {
      "text/plain": [
       "com.twosigma.beaker.javash.bkr7e98d4cf.Up"
      ]
     },
     "execution_count": 18,
     "metadata": {},
     "output_type": "execute_result"
    }
   ],
   "source": [
    "public class Up{\n",
    "    public void talk(String s){\n",
    "        System.out.println(\"부모 메소드 동작\");\n",
    "        System.out.println(s);\n",
    "    }\n",
    "}"
   ]
  },
  {
   "cell_type": "code",
   "execution_count": 20,
   "metadata": {},
   "outputs": [
    {
     "data": {
      "text/plain": [
       "com.twosigma.beaker.javash.bkr7e98d4cf.UpChild"
      ]
     },
     "execution_count": 20,
     "metadata": {},
     "output_type": "execute_result"
    }
   ],
   "source": [
    "public class UpChild extends Up{\n",
    "    public void talk(int i){\n",
    "        System.out.println(\"부모와 같은 메소드 이름, 그러나 매개변수 타입 변경\");\n",
    "        System.out.println(\"오버로드된 다른 버전\");\n",
    "        System.out.println(i);\n",
    "    }\n",
    "}"
   ]
  },
  {
   "cell_type": "code",
   "execution_count": 21,
   "metadata": {
    "scrolled": true
   },
   "outputs": [
    {
     "name": "stdout",
     "output_type": "stream",
     "text": [
      "부모 메소드 동작\n",
      "ss\n",
      "\n",
      "부모 메소드 동작\n",
      "ss\n",
      "\n",
      "부모와 같은 메소드 이름, 그러나 매개변수 타입 변경\n",
      "오버로드된 다른 버전\n",
      "22\n"
     ]
    },
    {
     "data": {
      "text/plain": [
       "null"
      ]
     },
     "execution_count": 21,
     "metadata": {},
     "output_type": "execute_result"
    }
   ],
   "source": [
    "Up u = new Up();\n",
    "UpChild uc = new UpChild();\n",
    "\n",
    "u.talk(\"ss\");\n",
    "\n",
    "System.out.println(\"대체되지 않았음\");\n",
    "\n",
    "uc.talk(\"ss\");\n",
    "\n",
    "System.out.println(\"시그니처가 달라서 별개의 메소드로 선언됨\");\n",
    "\n",
    "uc.talk(22);\n"
   ]
  },
  {
   "cell_type": "markdown",
   "metadata": {},
   "source": [
    "## 다중 상속"
   ]
  },
  {
   "cell_type": "markdown",
   "metadata": {},
   "source": [
    "지원 안 함. 다이아몬드 문제.\n",
    "\n",
    "스칼라, vue.js 에서 믹스인이라는 명목으로 다중상속을 지원함\n",
    "\n",
    "참조 : https://siyoon210.tistory.com/125"
   ]
  }
 ],
 "metadata": {
  "kernelspec": {
   "display_name": "Java",
   "language": "java",
   "name": "java"
  },
  "language_info": {
   "codemirror_mode": "text/x-java",
   "file_extension": ".java",
   "mimetype": "",
   "name": "Java",
   "nbconverter_exporter": "",
   "version": "1.8.0_152-release"
  },
  "toc": {
   "base_numbering": 1,
   "nav_menu": {},
   "number_sections": false,
   "sideBar": false,
   "skip_h1_title": false,
   "title_cell": "Table of Contents",
   "title_sidebar": "Contents",
   "toc_cell": false,
   "toc_position": {},
   "toc_section_display": false,
   "toc_window_display": false
  }
 },
 "nbformat": 4,
 "nbformat_minor": 2
}
