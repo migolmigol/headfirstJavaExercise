{
 "cells": [
  {
   "cell_type": "markdown",
   "metadata": {},
   "source": [
    "## 메소드를 사용하는 이유?"
   ]
  },
  {
   "cell_type": "markdown",
   "metadata": {},
   "source": [
    "객체지향적인 관점에서, 메소드는 행위다.\n",
    "\n",
    "프로그래밍 관점에서 메소드는 프로그래머가 객체에다가 내미는 주문서다.\n",
    "\n",
    "미리 작성한 이 주문서대로 해달라고 요청하면 객체는 주문서대로 행위한다.\n",
    "\n",
    "요리 주문서(레시피)는 여러 묶음의 행위를 반복해서 해야할 필요가 있을 때 만든다.\n",
    "\n",
    "메서드도 여러 묶음의 행위를 반복해서 해야할 필요가 있을 때 만든다."
   ]
  },
  {
   "cell_type": "code",
   "execution_count": null,
   "metadata": {},
   "outputs": [],
   "source": [
    "System.out.println(1/2+3*4-5);\n",
    "System.out.println(2/3+4*5-6);\n",
    "System.out.println(3/4+5*6-7);\n",
    "System.out.println(8/9+10*11-12);"
   ]
  },
  {
   "cell_type": "markdown",
   "metadata": {},
   "source": [
    "/+*- 연산을 매번 치기가 귀찮다."
   ]
  },
  {
   "cell_type": "code",
   "execution_count": 20,
   "metadata": {},
   "outputs": [
    {
     "data": {
      "text/plain": [
       "com.twosigma.beaker.javash.bkr2e8a72bb.S"
      ]
     },
     "execution_count": 20,
     "metadata": {},
     "output_type": "execute_result"
    }
   ],
   "source": [
    "public class S{\n",
    "    \n",
    "    public static String c(int start){\n",
    "        int calcResult = start/start+1+start+2*start+3-start+4;\n",
    "        return \"\"+calcResult;\n",
    "    };\n",
    "}\n"
   ]
  },
  {
   "cell_type": "code",
   "execution_count": 22,
   "metadata": {},
   "outputs": [
    {
     "name": "stdout",
     "output_type": "stream",
     "text": [
      "11\n",
      "13\n",
      "15\n",
      "17\n"
     ]
    },
    {
     "data": {
      "text/plain": [
       "null"
      ]
     },
     "execution_count": 22,
     "metadata": {},
     "output_type": "execute_result"
    }
   ],
   "source": [
    "System.out.println(S.c(1));\n",
    "System.out.println(S.c(2));\n",
    "System.out.println(S.c(3));\n",
    "System.out.println(S.c(4));\n"
   ]
  },
  {
   "cell_type": "markdown",
   "metadata": {},
   "source": [
    "System.out.println 일일히 치기 귀찮다."
   ]
  },
  {
   "cell_type": "code",
   "execution_count": 24,
   "metadata": {},
   "outputs": [
    {
     "data": {
      "text/plain": [
       "com.twosigma.beaker.javash.bkr2e8a72bb.S"
      ]
     },
     "execution_count": 24,
     "metadata": {},
     "output_type": "execute_result"
    }
   ],
   "source": [
    "public class S{\n",
    "    \n",
    "    public static String c(int start){\n",
    "        int calcResult = start/start+1+start+2*start+3-start+4;\n",
    "        return \"\"+calcResult;\n",
    "    };\n",
    "    \n",
    "    public static void o(String text){\n",
    "        System.out.println(text);\n",
    "    };\n",
    "}\n"
   ]
  },
  {
   "cell_type": "code",
   "execution_count": 25,
   "metadata": {},
   "outputs": [
    {
     "name": "stdout",
     "output_type": "stream",
     "text": [
      "11\n",
      "13\n",
      "15\n",
      "17\n",
      "19\n"
     ]
    },
    {
     "data": {
      "text/plain": [
       "null"
      ]
     },
     "execution_count": 25,
     "metadata": {},
     "output_type": "execute_result"
    }
   ],
   "source": [
    "S.o(S.c(1));\n",
    "S.o(S.c(2));\n",
    "S.o(S.c(3));\n",
    "S.o(S.c(4));\n",
    "S.o(S.c(5));"
   ]
  },
  {
   "cell_type": "markdown",
   "metadata": {},
   "source": [
    "## 변수 효력 범위"
   ]
  },
  {
   "cell_type": "markdown",
   "metadata": {},
   "source": [
    "메소드 실행 시, 메모리에는 해당 메소드를 위한 작은 방이 만들어 진다.\n",
    "\n",
    "그 방만큼의 영역을 스콥(Scope) 이라고 부른다.\n",
    "\n",
    "해당 스콥 내에서 정의된 변수는 메소드 종료 후 방이 닫히면 함께 사라진다.\n",
    "\n",
    "즉, 메소드 내부에서 선언된 변수는 메소드 바깥에서 접근할 수 없다."
   ]
  },
  {
   "cell_type": "markdown",
   "metadata": {},
   "source": [
    "## 나머지"
   ]
  },
  {
   "cell_type": "markdown",
   "metadata": {},
   "source": [
    "꺼이꺼이 리턴이니 매개변수니.. 쓰기 싫어. 그것 까지 해야하나?"
   ]
  },
  {
   "cell_type": "code",
   "execution_count": null,
   "metadata": {},
   "outputs": [],
   "source": []
  }
 ],
 "metadata": {
  "kernelspec": {
   "display_name": "Java",
   "language": "java",
   "name": "java"
  },
  "language_info": {
   "codemirror_mode": "text/x-java",
   "file_extension": ".java",
   "mimetype": "",
   "name": "Java",
   "nbconverter_exporter": "",
   "version": "1.8.0_152-release"
  },
  "toc": {
   "base_numbering": 1,
   "nav_menu": {},
   "number_sections": false,
   "sideBar": false,
   "skip_h1_title": false,
   "title_cell": "Table of Contents",
   "title_sidebar": "Contents",
   "toc_cell": false,
   "toc_position": {},
   "toc_section_display": false,
   "toc_window_display": false
  }
 },
 "nbformat": 4,
 "nbformat_minor": 2
}
