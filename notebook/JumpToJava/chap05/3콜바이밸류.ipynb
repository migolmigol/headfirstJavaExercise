{
 "cells": [
  {
   "cell_type": "markdown",
   "metadata": {},
   "source": [
    "## 호출은 요청이다"
   ]
  },
  {
   "cell_type": "markdown",
   "metadata": {},
   "source": [
    "우리는 '호출' 함으로써 변수나 메소드에 접근할 수 있다.\n",
    "\n",
    "호출하면 요청하고, 요청받은 곳에서 값을 돌려준다."
   ]
  },
  {
   "cell_type": "markdown",
   "metadata": {},
   "source": [
    "## 요청의 결과는 원시 값이거나 객체의 주소값이다."
   ]
  },
  {
   "cell_type": "markdown",
   "metadata": {},
   "source": [
    "원시 값은 크기가 정해진 변수에 담기는 값들을 말한다.\n",
    "\n",
    "int, float 등 변수의 크기가 정해져 있어서 그 이상의 값이 담길 수 없다.\n",
    "\n",
    "정수형 변수에는 정수값이 담긴다.\n",
    "정수형 변수는 정수만큼 담을 수 있는 크기가 정해져 있다.\n",
    "정수형 변수를 호출하면 결과로 정수값이 나온다.\n",
    "\n",
    "그러나 객체의 크기는 정해져 있지 않아서 변수에 담을 수 없다.\n",
    "\n",
    "따라서,\n",
    "\n",
    "객체형 변수에 담기에 객체는 너무 크다.\n",
    "객체형 변수에는 객체가 사는 메모리 주소값이 담긴다.\n",
    "객체형 변수의 크기는 주소만 담을 정도의 크기다.\n",
    "객체형 변수를 호출하면 주소값을 타고 객체로 접근할 수 있다.\n"
   ]
  },
  {
   "cell_type": "code",
   "execution_count": 2,
   "metadata": {},
   "outputs": [
    {
     "data": {
      "text/plain": [
       "com.twosigma.beaker.javash.bkrbf6c237f.SomeObj"
      ]
     },
     "execution_count": 2,
     "metadata": {},
     "output_type": "execute_result"
    }
   ],
   "source": [
    "// 어떤 클래스가 있고\n",
    "public class SomeObj{\n",
    "    \n",
    "}"
   ]
  },
  {
   "cell_type": "code",
   "execution_count": 7,
   "metadata": {
    "scrolled": true
   },
   "outputs": [
    {
     "ename": "variable s1 might not have been initialized",
     "evalue": "variable s1 might not have been initialized",
     "output_type": "error",
     "traceback": [
      "\u001b[1;31mvariable s1 might not have been initialized\u001b[0;0m",
      "\u001b[1;31m System.out.println(s1)\u001b[0;0m",
      "\u001b[1;31m                    ^ ^  \u001b[0;0m"
     ]
    }
   ],
   "source": [
    "// 이 클래스의 인스턴스만 담을 수 있는 변수가 있다.\n",
    "SomeObj s1;\n",
    "SomeObj s2;\n",
    "\n",
    "// 할당하지 않았으므로 변수가 초기화(할당)되지 않았다고 오류가 난다.\n",
    "System.out.println(s1);"
   ]
  },
  {
   "cell_type": "code",
   "execution_count": 20,
   "metadata": {},
   "outputs": [
    {
     "name": "stdout",
     "output_type": "stream",
     "text": [
      "com.twosigma.beaker.javash.bkrbf6c237f.SomeObj@753f47d5\n",
      "com.twosigma.beaker.javash.bkrbf6c237f.SomeObj@2d66d971\n"
     ]
    },
    {
     "data": {
      "text/plain": [
       "null"
      ]
     },
     "execution_count": 20,
     "metadata": {},
     "output_type": "execute_result"
    }
   ],
   "source": [
    "// 이 클래스의 인스턴스만 담을 수 있는 변수가 있다.\n",
    "SomeObj s1;\n",
    "SomeObj s2;\n",
    "\n",
    "// 그럼 객체를 생성하고 할당한 뒤\n",
    "s1 = new SomeObj();\n",
    "s2 = new SomeObj();\n",
    "\n",
    "// 변수를 출력하면 패캐지.클래스명@해시코드가 나온다.\n",
    "// com.twosigma.beaker.javash.bkrbf6c237f.SomeObj@7cf41ee0\n",
    "System.out.println(s1);\n",
    "System.out.println(s2);\n",
    "\n",
    "// 해시 메모리 코드는 아니지만, 객체의 고유 값이다.\n",
    "// 객체가 변수에 담긴 것이 아닌, 메모리 어딘가에 담겨 있기에 개별적인 고유 번호를 가진다."
   ]
  },
  {
   "cell_type": "markdown",
   "metadata": {},
   "source": [
    "# 값에의한 호출, 참조(주소)에 의한 호출"
   ]
  },
  {
   "cell_type": "markdown",
   "metadata": {},
   "source": [
    "위 처럼 객체가 담긴 변수를 호출할 경우, 객체가 위치한 주소가 반환되며 이를 call by reference(참조에 의한 호출)이라고 부른다.\n",
    "\n",
    "값에 의한 호출은 값을 반환하지만 참조에 의한 호출은 참조를 반환한다.\n",
    "\n",
    "객체의 참조를 반환하면, 그것으로 객체에 접근할 수 있게 된다.\n",
    "\n",
    "* String 객체는 특별하게 취급 : https://brunch.co.kr/@kd4/1"
   ]
  },
  {
   "cell_type": "code",
   "execution_count": 33,
   "metadata": {},
   "outputs": [
    {
     "data": {
      "text/plain": [
       "com.twosigma.beaker.javash.bkrbf6c237f.Refe"
      ]
     },
     "execution_count": 33,
     "metadata": {},
     "output_type": "execute_result"
    }
   ],
   "source": [
    "// 어떤 참조 클래스가 있고\n",
    "public class Refe{\n",
    "    public boolean valueBoolean = false;\n",
    "}"
   ]
  },
  {
   "cell_type": "code",
   "execution_count": 35,
   "metadata": {},
   "outputs": [
    {
     "data": {
      "text/plain": [
       "com.twosigma.beaker.javash.bkrbf6c237f.SomeObj"
      ]
     },
     "execution_count": 35,
     "metadata": {},
     "output_type": "execute_result"
    }
   ],
   "source": [
    "// 어떤 클래스가 있고\n",
    "public class SomeObj{\n",
    "    \n",
    "    public int valueInt = 0;\n",
    "    \n",
    "    public boolean valueBoolean = false;\n",
    "    \n",
    "    public Refe ref;\n",
    "    \n",
    "    public void callByValueInt(int v){\n",
    "        v = 1;\n",
    "        System.out.println(\"callbyvalue 매개변수는 값이 복사됨\");\n",
    "        System.out.println(\"메소드 내부에서만 존재하는 값이 됨\");\n",
    "        System.out.println(\"메서드 내부 스콥에서 값 \" + v);\n",
    "        System.out.println(\"메서드 외부 값 \" + this.valueInt);\n",
    "    }\n",
    "    \n",
    "    public void callByValueInt(boolean v){\n",
    "        v = true;\n",
    "        System.out.println(\"callbyvalue 매개변수는 값이 복사됨\");\n",
    "        System.out.println(\"메소드 내부에서만 존재하는 값이 됨\");\n",
    "        System.out.println(\"메서드 내부 값 \" + v);\n",
    "        System.out.println(\"메서드 외부 값 \" + this.valueBoolean);\n",
    "    }\n",
    "    \n",
    "    public void callByReferece(Refe r){\n",
    "        r.valueBoolean = true;\n",
    "        System.out.println(\"callbyReference 매개변수는 주소값이 복사됨\");\n",
    "        System.out.println(\"주소로 객체 접근이 가능해서 직접 수정이 됨\");\n",
    "        System.out.println(\"메서드 내부에서 접근한 객체의 값 \" + r.valueBoolean);\n",
    "        System.out.println(\"메서드 외부에서 접근한 객체의 값 \" + ref.valueBoolean);\n",
    "    }\n",
    "}"
   ]
  },
  {
   "cell_type": "code",
   "execution_count": 42,
   "metadata": {
    "scrolled": true
   },
   "outputs": [
    {
     "name": "stdout",
     "output_type": "stream",
     "text": [
      "callbyvalue 매개변수는 값이 복사됨\n",
      "메소드 내부에서만 존재하는 값이 됨\n",
      "메서드 내부 값 1\n",
      "외부 값 0\n",
      "callbyvalue 매개변수는 값이 복사됨\n",
      "메소드 내부에서만 존재하는 값이 됨\n",
      "메서드 내부 값 true\n",
      "외부 값 false\n"
     ]
    },
    {
     "data": {
      "text/plain": [
       "null"
      ]
     },
     "execution_count": 42,
     "metadata": {},
     "output_type": "execute_result"
    }
   ],
   "source": [
    "SomeObj ob = new SomeObj();\n",
    "ob.ref = new Refe();\n",
    "\n",
    "ob.callByValueInt(ob.valueInt);\n",
    "\n",
    "ob.callByValueInt(ob.valueBoolean);"
   ]
  },
  {
   "cell_type": "code",
   "execution_count": 44,
   "metadata": {
    "scrolled": true
   },
   "outputs": [
    {
     "name": "stdout",
     "output_type": "stream",
     "text": [
      "callbyReference 매개변수는 주소값이 복사됨\n",
      "주소로 객체 접근이 가능해서 직접 수정이 됨\n",
      "메서드 내부에서 접근한 값 true\n",
      "메서드 외부에서 접근한 값 true\n"
     ]
    },
    {
     "data": {
      "text/plain": [
       "null"
      ]
     },
     "execution_count": 44,
     "metadata": {},
     "output_type": "execute_result"
    }
   ],
   "source": [
    "SomeObj ob = new SomeObj();\n",
    "ob.ref = new Refe();\n",
    "\n",
    "ob.callByReferece(ob.ref);"
   ]
  },
  {
   "cell_type": "code",
   "execution_count": null,
   "metadata": {},
   "outputs": [],
   "source": [
    "x."
   ]
  }
 ],
 "metadata": {
  "kernelspec": {
   "display_name": "Java",
   "language": "java",
   "name": "java"
  },
  "language_info": {
   "codemirror_mode": "text/x-java",
   "file_extension": ".java",
   "mimetype": "",
   "name": "Java",
   "nbconverter_exporter": "",
   "version": "1.8.0_152-release"
  },
  "toc": {
   "base_numbering": 1,
   "nav_menu": {},
   "number_sections": false,
   "sideBar": false,
   "skip_h1_title": false,
   "title_cell": "Table of Contents",
   "title_sidebar": "Contents",
   "toc_cell": false,
   "toc_position": {},
   "toc_section_display": false,
   "toc_window_display": false
  }
 },
 "nbformat": 4,
 "nbformat_minor": 2
}
