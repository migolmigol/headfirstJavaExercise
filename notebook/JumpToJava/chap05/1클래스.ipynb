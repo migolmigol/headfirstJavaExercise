{
 "cells": [
  {
   "cell_type": "markdown",
   "metadata": {},
   "source": [
    "## 클래스의 정의"
   ]
  },
  {
   "cell_type": "markdown",
   "metadata": {},
   "source": [
    "클래스는 뭘까? 클래서피케이션이라는 말이 분류를 뜻하는 것과 같이 클래스는 얼추 무언가를 묶는 것과 연관이 있다고 추측해 볼 수 있다."
   ]
  },
  {
   "cell_type": "markdown",
   "metadata": {},
   "source": [
    "**클래스(종)**\n",
    "\n",
    "명사 : 공통 속성을 공유하는 것들의 집합\n",
    "\n",
    "예) 포유류(종). 포유류는 젖먹이 동물, 젖먹이 짐승. 즉 젖을 먹는 속성을 공통으로 공유하는 것들이다."
   ]
  },
  {
   "cell_type": "code",
   "execution_count": 1,
   "metadata": {
    "scrolled": true
   },
   "outputs": [
    {
     "data": {
      "text/plain": [
       "com.twosigma.beaker.javash.bkr207a708a.Animal"
      ]
     },
     "execution_count": 1,
     "metadata": {},
     "output_type": "execute_result"
    }
   ],
   "source": [
    "// 포유류라는 종이 있다.\n",
    "public class Mammalia{\n",
    "    \n",
    "}"
   ]
  },
  {
   "cell_type": "markdown",
   "metadata": {},
   "source": [
    "**멤버 변수(공통 속성)**\n",
    "\n",
    "클래스가 가진 상태를 속성(peoperty)이라고도 부른다.\n",
    "\n",
    "예) 포유류는 젖샘을 가진 상태이다. 포유류의 속성중 하나는 젖샘이다."
   ]
  },
  {
   "cell_type": "code",
   "execution_count": 3,
   "metadata": {},
   "outputs": [
    {
     "data": {
      "text/plain": [
       "com.twosigma.beaker.javash.bkr207a708a.Mammalia"
      ]
     },
     "execution_count": 3,
     "metadata": {},
     "output_type": "execute_result"
    }
   ],
   "source": [
    "// 포유류라는 종은\n",
    "public class Mammalia{\n",
    "    // 공통적으로 젖샘을 가진다.\n",
    "    private String mammary_gland;\n",
    "}"
   ]
  },
  {
   "cell_type": "markdown",
   "metadata": {},
   "source": [
    "**멤버 메소드(공통 행위)**\n",
    "\n",
    "클래스가 가진 행위를 메소드라고도 부른다. \n",
    "\n",
    "실행 의 결과로 무언가를 반환하는 것을 함수라고 부르는데, 클래스 내부에 있는 함수는 메소드라고 부른다.\n",
    "\n",
    "예) 포유류는 젖을 빠는 행위를 공통으로 한다."
   ]
  },
  {
   "cell_type": "code",
   "execution_count": 12,
   "metadata": {},
   "outputs": [
    {
     "data": {
      "text/plain": [
       "com.twosigma.beaker.javash.bkr207a708a.Mammalia"
      ]
     },
     "execution_count": 12,
     "metadata": {},
     "output_type": "execute_result"
    }
   ],
   "source": [
    "// 포유류라는 종은\n",
    "public class Mammalia{\n",
    "    // 공통적으로 젖샘을 가진다.\n",
    "    private String mammary_gland;\n",
    "    \n",
    "    // 공통적으로 젖을 빠는 행위를 한다.\n",
    "    public void sucking_a_breast(String mammary_gland){\n",
    "        \n",
    "    }\n",
    "}"
   ]
  },
  {
   "cell_type": "markdown",
   "metadata": {},
   "source": [
    "## 클래스의 인스턴스(실체)화"
   ]
  },
  {
   "cell_type": "markdown",
   "metadata": {},
   "source": [
    "클래스는 그저 우리가 설계한 설계도와 같다.\n",
    "\n",
    "그 설계도는 어떤 속성과 행위를 묶어 하나의 객체(어떤 것, Object)를 만들기 위한 것이다.\n",
    "\n",
    "구체적으로는, 자바 가상머신 세상에서 속성과 행위를 가지는 객체(Object)를 만들기 위한 설계도가 클래스다.\n",
    "\n",
    "자바 가상 머신이 만든 세상은 메모리 속에 있으므로, 우리는 객체를 메모리 세상에 만들기 위해서 클래스라는 설계도를 메모리 세상으로 실체화(Materialized) 하는 작업이 필요하다."
   ]
  },
  {
   "cell_type": "markdown",
   "metadata": {},
   "source": [
    "**인스턴스**\n",
    "\n",
    "명사 : 무언가가 일어난 결과, 예시 등등.\n",
    "\n",
    "예시 : 종이나 묶음의 전형적인 정보의 항목.\n",
    "       an item of information that is typical of a class or group\n",
    "\n",
    "인스턴스는 클래스가 실제로 발생한 결과인 예시(instance)다.\n",
    "\n",
    "예) (포1, 포2, 포3)는 포유류가 실제로 발생한 결과인 예시다.\n"
   ]
  },
  {
   "cell_type": "code",
   "execution_count": 19,
   "metadata": {},
   "outputs": [
    {
     "name": "stdout",
     "output_type": "stream",
     "text": [
      "true\n",
      "true\n",
      "false\n"
     ]
    },
    {
     "data": {
      "text/plain": [
       "null"
      ]
     },
     "execution_count": 19,
     "metadata": {},
     "output_type": "execute_result"
    }
   ],
   "source": [
    "Mammalia 포1 = new Mammalia();\n",
    "Mammalia 포2 = new Mammalia();\n",
    "Mammalia 포3 = new Mammalia();\n",
    "\n",
    "\n",
    "// 포1와 포2는 같은 클래스가 실제로 발생한 결과인 예시(instance)지만\n",
    "\n",
    "boolean 포1은_포유류의_인스턴스인가 = 포1 instanceof Mammalia;\n",
    "\n",
    "System.out.println(포1은_포유류의_인스턴스인가);\n",
    "\n",
    "boolean 포2은_포유류의_인스턴스인가 = 포2 instanceof Mammalia;\n",
    "\n",
    "System.out.println(포2은_포유류의_인스턴스인가);\n"
   ]
  },
  {
   "cell_type": "markdown",
   "metadata": {},
   "source": [
    "**객체**\n",
    "\n",
    "명사 : 만져서 알 수 있고 보이는 개체; 그림자를 드리울 수 있는 개체. 즉, 객관적인 실체(substance)다.\n",
    "\n",
    "나만 아는 실체는 객체가 아니다. 나 뿐 아니라 누가 보아도 만져 알 수 있고 그림자를 통해 인식할 수 있는 실체가 객(관적인 실)체다.\n",
    "\n",
    "포유류라는 공통 클래스의 인스턴스인 포1, 포2, 포3 는 각각 개별적인 객체다."
   ]
  },
  {
   "cell_type": "code",
   "execution_count": 20,
   "metadata": {},
   "outputs": [
    {
     "name": "stdout",
     "output_type": "stream",
     "text": [
      "true\n",
      "true\n",
      "false\n"
     ]
    },
    {
     "data": {
      "text/plain": [
       "null"
      ]
     },
     "execution_count": 20,
     "metadata": {},
     "output_type": "execute_result"
    }
   ],
   "source": [
    "Mammalia 포1 = new Mammalia();\n",
    "Mammalia 포2 = new Mammalia();\n",
    "Mammalia 포3 = new Mammalia();\n",
    "\n",
    "\n",
    "// 포1와 포2는 같은 클래스가 실제로 발생한 결과인 예시(instance)지만\n",
    "\n",
    "boolean 포1은_포유류의_인스턴스인가 = 포1 instanceof Mammalia;\n",
    "\n",
    "System.out.println(포1은_포유류의_인스턴스인가);\n",
    "\n",
    "boolean 포2은_포유류의_인스턴스인가 = 포2 instanceof Mammalia;\n",
    "\n",
    "System.out.println(포2은_포유류의_인스턴스인가);\n",
    "\n",
    "// 그들은 개별적인 객체(object)이다\n",
    "\n",
    "boolean 포1은포2와같은객체인가 = 포1 == 포2;\n",
    "\n",
    "System.out.println(포1은포2와같은객체인가);\n"
   ]
  },
  {
   "cell_type": "markdown",
   "metadata": {},
   "source": [
    "**객체의 변수(값)은 공유되지 않는다.**"
   ]
  },
  {
   "cell_type": "markdown",
   "metadata": {},
   "source": [
    "이 글을 읽는 우리 각각은 포류류의 인스턴스이면서 개별적인 객체다.\n",
    "\n",
    "우리는 이름이라는 변수(속성)을 공통으로 가졌으나 그것은 각 사람이 소유할 뿐 다른 사람과 공유되지 않는다."
   ]
  },
  {
   "cell_type": "code",
   "execution_count": 33,
   "metadata": {},
   "outputs": [
    {
     "data": {
      "text/plain": [
       "com.twosigma.beaker.javash.bkr207a708a.Mammalia"
      ]
     },
     "execution_count": 33,
     "metadata": {},
     "output_type": "execute_result"
    }
   ],
   "source": [
    "// 포유류라는 종은\n",
    "public class Mammalia{\n",
    "    // 공통적으로 젖샘을 가진다.\n",
    "    public String 젖샘;\n",
    "    \n",
    "    // 공통적으로 젖을 빠는 행위를 한다.\n",
    "    public void 빨기(){\n",
    "        \n",
    "        System.out.println(\"포유류가 \" + this.젖샘 + \"을 빤다.\");\n",
    "        \n",
    "    }\n",
    "}"
   ]
  },
  {
   "cell_type": "code",
   "execution_count": 35,
   "metadata": {},
   "outputs": [
    {
     "name": "stdout",
     "output_type": "stream",
     "text": [
      "포유류가 젖1을 빤다.\n",
      "포유류가 젖2을 빤다.\n",
      "포유류가 젖3을 빤다.\n"
     ]
    },
    {
     "data": {
      "text/plain": [
       "null"
      ]
     },
     "execution_count": 35,
     "metadata": {},
     "output_type": "execute_result"
    }
   ],
   "source": [
    "Mammalia 포1 = new Mammalia();\n",
    "Mammalia 포2 = new Mammalia();\n",
    "Mammalia 포3 = new Mammalia();\n",
    "\n",
    "포1.젖샘 = \"젖1\";\n",
    "포2.젖샘 = \"젖2\";\n",
    "포3.젖샘 = \"젖3\";\n",
    "\n",
    "// 각 인스턴스의 속성은 다른 인스턴스의 속성과 분리되어 있다.\n",
    "포1.빨기();\n",
    "포2.빨기();\n",
    "포3.빨기();\n"
   ]
  },
  {
   "cell_type": "code",
   "execution_count": null,
   "metadata": {},
   "outputs": [],
   "source": []
  }
 ],
 "metadata": {
  "kernelspec": {
   "display_name": "Java",
   "language": "java",
   "name": "java"
  },
  "language_info": {
   "codemirror_mode": "text/x-java",
   "file_extension": ".java",
   "mimetype": "",
   "name": "Java",
   "nbconverter_exporter": "",
   "version": "1.8.0_152-release"
  },
  "toc": {
   "base_numbering": 1,
   "nav_menu": {},
   "number_sections": false,
   "sideBar": false,
   "skip_h1_title": false,
   "title_cell": "Table of Contents",
   "title_sidebar": "Contents",
   "toc_cell": false,
   "toc_position": {},
   "toc_section_display": false,
   "toc_window_display": false
  }
 },
 "nbformat": 4,
 "nbformat_minor": 2
}
