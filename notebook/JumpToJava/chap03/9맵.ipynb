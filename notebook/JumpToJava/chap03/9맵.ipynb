{
 "cells": [
  {
   "cell_type": "markdown",
   "metadata": {},
   "source": [
    "아 귀찮아. 1:1 맵핑이란 말은 대응을 시켜준다는 말이다.\n",
    "\n",
    "키|값\n",
    "---|---\n",
    "people|사람\n",
    "baseball|야구\n",
    "\n",
    "인덱스를 가지고 순차적으로 값을 찾는 게 아니고 키를 통해서 값을 얻는다.\n",
    "\n",
    "일단 HashMap 만 다룬다.\n"
   ]
  },
  {
   "cell_type": "markdown",
   "metadata": {},
   "source": [
    "### put"
   ]
  },
  {
   "cell_type": "markdown",
   "metadata": {},
   "source": [
    "> Map 역시 인터페이스. HashMap, TreeMap, LinkedHashMap 등이 있음."
   ]
  },
  {
   "cell_type": "code",
   "execution_count": 9,
   "metadata": {},
   "outputs": [
    {
     "data": {
      "text/plain": [
       "null"
      ]
     },
     "execution_count": 9,
     "metadata": {},
     "output_type": "execute_result"
    }
   ],
   "source": [
    "import java.util.HashMap;\n",
    "HashMap<String, String> map = new HashMap<String, String>();\n",
    "map.put(\"ss\",\"d\");"
   ]
  },
  {
   "cell_type": "markdown",
   "metadata": {},
   "source": [
    "타입 추론 되나? 한쪽만 써도 되?"
   ]
  },
  {
   "cell_type": "code",
   "execution_count": 17,
   "metadata": {},
   "outputs": [
    {
     "ename": "no suitable method found for put(java.lang.String,int)",
     "evalue": "no suitable method found for put(java.lang.String,int)",
     "output_type": "error",
     "traceback": [
      "\u001b[1;31mno suitable method found for put(java.lang.String,int)\u001b[0;0m",
      "\u001b[1;31m    method java.util.Map.put(java.lang.String,java.lang.String) is not applicable\u001b[0;0m",
      "\u001b[1;31m      (argument mismatch; int cannot be converted to java.lang.String)\u001b[0;0m",
      "\u001b[1;31m    method java.util.AbstractMap.put(java.lang.String,java.lang.String) is not applicable\u001b[0;0m",
      "\u001b[1;31m      (argument mismatch; int cannot be converted to java.lang.String)\u001b[0;0m",
      "\u001b[1;31m    method java.util.HashMap.put(java.lang.String,java.lang.String) is not applicable\u001b[0;0m",
      "\u001b[1;31m      (argument mismatch; int cannot be converted to java.lang.String)\u001b[0;0m",
      "\u001b[1;31m map.put(\"ss\",123)\u001b[0;0m",
      "\u001b[1;31m ^      ^           \u001b[0;0m",
      "\u001b[1;31m\u001b[0;0m",
      "\u001b[1;31m/com/twosigma/beaker/javash/bkr277e817c/BeakerWrapperClass1261714175Idd096ffcf905243a79bf1a0bcbff42098.java uses unchecked or unsafe operations.\u001b[0;0m",
      "\u001b[1;31mRecompile with -Xlint:unchecked for details.\u001b[0;0m"
     ]
    }
   ],
   "source": [
    "import java.util.HashMap;\n",
    "HashMap<String, String> map = new HashMap();\n",
    "map.put(\"ss\",123);\n"
   ]
  },
  {
   "cell_type": "markdown",
   "metadata": {},
   "source": [
    "오 스칼라처럼 타입 추론이 되네."
   ]
  },
  {
   "cell_type": "code",
   "execution_count": 1,
   "metadata": {},
   "outputs": [
    {
     "name": "stdout",
     "output_type": "stream",
     "text": [
      "\n",
      "Step 1: How to initialize a HashMap with 3 elements\n",
      "Elements of hashMap1 = Map(CD -> Chocolate Donut, SD -> Strawberry Donut, PD -> Plain Donut)\n"
     ]
    },
    {
     "data": {
      "text/plain": [
       "null"
      ]
     },
     "execution_count": 1,
     "metadata": {},
     "output_type": "execute_result"
    }
   ],
   "source": [
    "%%scala\n",
    "import scala.collection.mutable.HashMap\n",
    "val hashMap1: HashMap[String, String] = HashMap((\"PD\",\"Plain Donut\"),(\"SD\",\"Strawberry Donut\"),(\"CD\",\"Chocolate Donut\"))"
   ]
  },
  {
   "cell_type": "markdown",
   "metadata": {},
   "source": [
    "### get"
   ]
  },
  {
   "cell_type": "markdown",
   "metadata": {},
   "source": [
    "키로 값을 가져옴"
   ]
  },
  {
   "cell_type": "code",
   "execution_count": 13,
   "metadata": {},
   "outputs": [
    {
     "data": {
      "text/plain": [
       "세이굿바이"
      ]
     },
     "execution_count": 13,
     "metadata": {},
     "output_type": "execute_result"
    }
   ],
   "source": [
    "import java.util.HashMap;\n",
    "HashMap<String, String> map = new HashMap();\n",
    "map.put(\"1루수\",\"위윌락큐\");\n",
    "map.put(\"2루수\",\"할라할라\");\n",
    "map.put(\"3루수\",\"세이굿바이\");\n",
    "\n",
    "return map.get(\"3루수\");"
   ]
  },
  {
   "cell_type": "markdown",
   "metadata": {},
   "source": [
    "### containsKey"
   ]
  },
  {
   "cell_type": "markdown",
   "metadata": {},
   "source": [
    "키가 있는지 검사함"
   ]
  },
  {
   "cell_type": "code",
   "execution_count": 14,
   "metadata": {},
   "outputs": [
    {
     "data": {
      "text/plain": [
       "true"
      ]
     },
     "execution_count": 14,
     "metadata": {},
     "output_type": "execute_result"
    }
   ],
   "source": [
    "import java.util.HashMap;\n",
    "HashMap<String, String> map = new HashMap();\n",
    "map.put(\"1루수\",\"위윌락큐\");\n",
    "map.put(\"2루수\",\"할라할라\");\n",
    "map.put(\"3루수\",\"세이굿바이\");\n",
    "\n",
    "return map.containsKey(\"3루수\");"
   ]
  },
  {
   "cell_type": "markdown",
   "metadata": {},
   "source": [
    "### remove"
   ]
  },
  {
   "cell_type": "markdown",
   "metadata": {},
   "source": [
    "키값으로 해당하는 항목 전체(키와 값의 묶음)을 제거하고 값을 리턴한다"
   ]
  },
  {
   "cell_type": "code",
   "execution_count": 20,
   "metadata": {},
   "outputs": [
    {
     "name": "stdout",
     "output_type": "stream",
     "text": [
      "세이굿바이\n"
     ]
    },
    {
     "data": {
      "application/vnd.jupyter.widget-view+json": {
       "model_id": "",
       "version_major": 2,
       "version_minor": 0
      },
      "method": "display_data"
     },
     "metadata": {},
     "output_type": "display_data"
    }
   ],
   "source": [
    "import java.util.HashMap;\n",
    "HashMap<String, String> map = new HashMap();\n",
    "map.put(\"1루수\",\"위윌락큐\");\n",
    "map.put(\"2루수\",\"할라할라\");\n",
    "map.put(\"3루수\",\"세이굿바이\");\n",
    "\n",
    "System.out.println(map.remove(\"3루수\"));\n",
    "\n",
    "return map;"
   ]
  },
  {
   "cell_type": "markdown",
   "metadata": {},
   "source": [
    "### size"
   ]
  },
  {
   "cell_type": "markdown",
   "metadata": {},
   "source": [
    "크기 반환"
   ]
  },
  {
   "cell_type": "code",
   "execution_count": 24,
   "metadata": {
    "scrolled": true
   },
   "outputs": [
    {
     "name": "stdout",
     "output_type": "stream",
     "text": [
      "세이굿바이\n"
     ]
    },
    {
     "data": {
      "text/plain": [
       "2"
      ]
     },
     "execution_count": 24,
     "metadata": {},
     "output_type": "execute_result"
    }
   ],
   "source": [
    "import java.util.HashMap;\n",
    "HashMap<String, String> map = new HashMap();\n",
    "map.put(\"1루수\",\"위윌락큐\");\n",
    "map.put(\"2루수\",\"할라할라\");\n",
    "map.put(\"3루수\",\"세이굿바이\");\n",
    "\n",
    "System.out.println(map.remove(\"3루수\"));\n",
    "\n",
    "return map.size();"
   ]
  },
  {
   "cell_type": "markdown",
   "metadata": {},
   "source": [
    "> key, value 로 값을 가져오더라도 입력된 순서를 보존하고 싶을 때가 있다. 혹은 key 에 의해 소트된 데이터를 가져오거나.\n",
    "    - LinkedHashMap 입력된 순서대로 데이터가 출력되는 특징\n",
    "    - TreeMap 은 입력된 Key의 소트순으로 데이터가 출력되는 특징"
   ]
  },
  {
   "cell_type": "code",
   "execution_count": null,
   "metadata": {},
   "outputs": [],
   "source": []
  }
 ],
 "metadata": {
  "kernelspec": {
   "display_name": "Java",
   "language": "java",
   "name": "java"
  },
  "language_info": {
   "codemirror_mode": "text/x-java",
   "file_extension": ".java",
   "mimetype": "",
   "name": "Java",
   "nbconverter_exporter": "",
   "version": "1.8.0_152-release"
  },
  "toc": {
   "base_numbering": 1,
   "nav_menu": {},
   "number_sections": false,
   "sideBar": false,
   "skip_h1_title": false,
   "title_cell": "Table of Contents",
   "title_sidebar": "Contents",
   "toc_cell": false,
   "toc_position": {},
   "toc_section_display": false,
   "toc_window_display": false
  }
 },
 "nbformat": 4,
 "nbformat_minor": 2
}
