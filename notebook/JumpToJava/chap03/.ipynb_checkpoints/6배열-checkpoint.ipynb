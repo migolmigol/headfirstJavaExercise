{
 "cells": [
  {
   "cell_type": "markdown",
   "metadata": {},
   "source": [
    "자료형의 집합이 배열."
   ]
  },
  {
   "cell_type": "code",
   "execution_count": 1,
   "metadata": {},
   "outputs": [
    {
     "data": {
      "text/plain": [
       "null"
      ]
     },
     "execution_count": 1,
     "metadata": {},
     "output_type": "execute_result"
    }
   ],
   "source": [
    "// int 자료형의 집합\n",
    "int[] 양의_자연수 = {1,2,3,4,5};\n",
    "\n",
    "// String 자료형의 집함\n",
    "String[] 자음 = {\"ㄱ\",\"ㄴ\",\"ㄷ\",\"ㄹ\"};"
   ]
  },
  {
   "cell_type": "markdown",
   "metadata": {},
   "source": [
    "2차원, 3차원 배열도 가능한데 복잡해서 잘 안 쓴다."
   ]
  },
  {
   "cell_type": "code",
   "execution_count": 6,
   "metadata": {},
   "outputs": [
    {
     "data": {
      "text/plain": [
       "[[1, 2, 3, 4], [5, 6, 7, 8], [9, 10, 11, 12], [13, 14, 15, 16]]"
      ]
     },
     "execution_count": 6,
     "metadata": {},
     "output_type": "execute_result"
    }
   ],
   "source": [
    "// 4 * 4 이차원 배열\n",
    "int[][] matrix = new int[4][4];\n",
    "\n",
    "matrix[0][0] = 1;\n",
    "matrix[0][1] = 2;\n",
    "matrix[0][2] = 3;\n",
    "matrix[0][3] = 4;\n",
    "\n",
    "    \n",
    "matrix[1][0] = 5;\n",
    "matrix[1][1] = 6;\n",
    "matrix[1][2] = 7;\n",
    "matrix[1][3] = 8;\n",
    "\n",
    "matrix[2][0] = 9;\n",
    "matrix[2][1] = 10;\n",
    "matrix[2][2] = 11;\n",
    "matrix[2][3] = 12;\n",
    "\n",
    "matrix[3][0] = 13;\n",
    "matrix[3][1] = 14;\n",
    "matrix[3][2] = 15;\n",
    "matrix[3][3] = 16;\n",
    "\n",
    "    \n",
    "return matrix;"
   ]
  },
  {
   "cell_type": "markdown",
   "metadata": {},
   "source": [
    "### 배열의 길이는 고정"
   ]
  },
  {
   "cell_type": "markdown",
   "metadata": {},
   "source": [
    "배열은 생성 시 길이가 고정된다."
   ]
  },
  {
   "cell_type": "code",
   "execution_count": 16,
   "metadata": {},
   "outputs": [
    {
     "name": "stdout",
     "output_type": "stream",
     "text": [
      "5\n"
     ]
    },
    {
     "data": {
      "text/plain": [
       "null"
      ]
     },
     "execution_count": 16,
     "metadata": {},
     "output_type": "execute_result"
    }
   ],
   "source": [
    "// int 자료형의 집합\n",
    "int[] 양의_자연수 = {1,2,3,4,5};\n",
    "System.out.println(양의_자연수.length);"
   ]
  },
  {
   "cell_type": "markdown",
   "metadata": {},
   "source": [
    "생성할 때 빈 배열을 생성하려면 길이를 설정해줘야 한다"
   ]
  },
  {
   "cell_type": "code",
   "execution_count": 18,
   "metadata": {},
   "outputs": [
    {
     "name": "stdout",
     "output_type": "stream",
     "text": [
      "3\n"
     ]
    },
    {
     "data": {
      "text/plain": [
       "null"
      ]
     },
     "execution_count": 18,
     "metadata": {},
     "output_type": "execute_result"
    }
   ],
   "source": [
    "// int 자료형의 집합\n",
    "int[] 양의_자연수 = new int[3];\n",
    "양의_자연수[0] = 1;\n",
    "양의_자연수[1] = 2;\n",
    "양의_자연수[2] = 3;\n",
    "\n",
    "System.out.println(양의_자연수.length);"
   ]
  },
  {
   "cell_type": "markdown",
   "metadata": {},
   "source": [
    "### 배열의 값 접근"
   ]
  },
  {
   "cell_type": "markdown",
   "metadata": {},
   "source": [
    "인덱스로 접근한다. 이미 위에서 다룸."
   ]
  },
  {
   "cell_type": "markdown",
   "metadata": {},
   "source": [
    "### 배열의 길이"
   ]
  },
  {
   "cell_type": "markdown",
   "metadata": {},
   "source": [
    "배열 객체의 length 멤버 변수를 호출하면 된다. "
   ]
  },
  {
   "cell_type": "code",
   "execution_count": 20,
   "metadata": {},
   "outputs": [
    {
     "name": "stdout",
     "output_type": "stream",
     "text": [
      "1\n",
      "2\n",
      "3\n",
      "4\n",
      "5\n"
     ]
    },
    {
     "data": {
      "text/plain": [
       "null"
      ]
     },
     "execution_count": 20,
     "metadata": {},
     "output_type": "execute_result"
    }
   ],
   "source": [
    "// int 자료형의 집합\n",
    "int[] 양의_자연수 = {1,2,3,4,5};\n",
    "\n",
    "// 옛날 for 반복문\n",
    "for(int i = 0; i<양의_자연수.length; i++  ){\n",
    "    System.out.println(양의_자연수[i]);\n",
    "}"
   ]
  },
  {
   "cell_type": "markdown",
   "metadata": {},
   "source": [
    "for 루프는 좀 나아졌네. 각 타입 내부에 iterator 구현했나보다."
   ]
  },
  {
   "cell_type": "code",
   "execution_count": 21,
   "metadata": {},
   "outputs": [
    {
     "name": "stdout",
     "output_type": "stream",
     "text": [
      "1\n",
      "2\n",
      "3\n",
      "4\n",
      "5\n"
     ]
    },
    {
     "data": {
      "text/plain": [
       "null"
      ]
     },
     "execution_count": 21,
     "metadata": {},
     "output_type": "execute_result"
    }
   ],
   "source": [
    "// int 자료형의 집합\n",
    "int[] 양의_자연수 = {1,2,3,4,5};\n",
    "\n",
    "// 다른 언어에서 forEach 에 해당하는 반복문\n",
    "for(int n : 양의_자연수 ){\n",
    "    System.out.println(n);\n",
    "}"
   ]
  },
  {
   "cell_type": "markdown",
   "metadata": {},
   "source": [
    "### 배열의 오류"
   ]
  },
  {
   "cell_type": "code",
   "execution_count": 23,
   "metadata": {},
   "outputs": [
    {
     "ename": "ERROR",
     "evalue": " java.lang.ArrayIndexOutOfBoundsException",
     "output_type": "error",
     "traceback": [
      "\u001b[1;31mERROR: java.lang.ArrayIndexOutOfBoundsException: 5\u001b[0;0m"
     ]
    }
   ],
   "source": [
    "// int 자료형의 집합\n",
    "int[] 양의_자연수 = {1,2,3,4,5};\n",
    "\n",
    "// 0~4번째 인덱스만 있다. 인덱스 경계를 벗어났다 오류가 남\n",
    "return 양의_자연수[5];"
   ]
  },
  {
   "cell_type": "code",
   "execution_count": null,
   "metadata": {},
   "outputs": [],
   "source": []
  }
 ],
 "metadata": {
  "kernelspec": {
   "display_name": "Java",
   "language": "java",
   "name": "java"
  },
  "language_info": {
   "codemirror_mode": "text/x-java",
   "file_extension": ".java",
   "mimetype": "",
   "name": "Java",
   "nbconverter_exporter": "",
   "version": "1.8.0_152-release"
  },
  "toc": {
   "base_numbering": 1,
   "nav_menu": {},
   "number_sections": false,
   "sideBar": false,
   "skip_h1_title": false,
   "title_cell": "Table of Contents",
   "title_sidebar": "Contents",
   "toc_cell": false,
   "toc_position": {},
   "toc_section_display": false,
   "toc_window_display": false
  }
 },
 "nbformat": 4,
 "nbformat_minor": 2
}
