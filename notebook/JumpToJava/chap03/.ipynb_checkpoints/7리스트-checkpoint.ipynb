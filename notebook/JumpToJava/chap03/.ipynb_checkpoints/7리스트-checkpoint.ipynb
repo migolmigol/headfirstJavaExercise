{
 "cells": [
  {
   "cell_type": "markdown",
   "metadata": {},
   "source": [
    "리스트는 배열과 비슷한다. \n",
    "\n",
    "- 크기가 가변이다.\n",
    "\n",
    "일단 Arraylist 보자."
   ]
  },
  {
   "cell_type": "markdown",
   "metadata": {},
   "source": [
    "### add"
   ]
  },
  {
   "cell_type": "code",
   "execution_count": 5,
   "metadata": {},
   "outputs": [
    {
     "data": {
      "text/plain": [
       "[138, 129, 142]"
      ]
     },
     "execution_count": 5,
     "metadata": {},
     "output_type": "execute_result"
    }
   ],
   "source": [
    "// 쓸라면 임포트 해야함. 기본 자료 형이 아니라서.\n",
    "import java.util.ArrayList;\n",
    "import java.util.List;\n",
    "\n",
    "ArrayList pitches = new ArrayList();\n",
    "pitches.add(\"138\");\n",
    "pitches.add(\"129\");\n",
    "pitches.add(\"142\");\n",
    "\n",
    "return pitches;"
   ]
  },
  {
   "cell_type": "code",
   "execution_count": 7,
   "metadata": {},
   "outputs": [
    {
     "data": {
      "text/plain": [
       "[138, 129, 세번째 삽입, 142]"
      ]
     },
     "execution_count": 7,
     "metadata": {},
     "output_type": "execute_result"
    }
   ],
   "source": [
    "import java.util.ArrayList;\n",
    "import java.util.List;\n",
    "\n",
    "ArrayList pitches = new ArrayList();\n",
    "pitches.add(\"138\");\n",
    "pitches.add(\"129\");\n",
    "pitches.add(\"142\");\n",
    "\n",
    "\n",
    "// 삽입할 수 있음\n",
    "pitches.add(2,\"세번째 삽입\");\n",
    "\n",
    "return pitches;"
   ]
  },
  {
   "cell_type": "code",
   "execution_count": 8,
   "metadata": {},
   "outputs": [
    {
     "data": {
      "text/plain": [
       "[138, 129, 세번째 삽입, 142]"
      ]
     },
     "execution_count": 8,
     "metadata": {},
     "output_type": "execute_result"
    }
   ],
   "source": [
    "import java.util.ArrayList;\n",
    "import java.util.List;\n",
    "\n",
    "// 리스트 내부에 넣을 값의 타입을 지정할 수 있음\n",
    "ArrayList pitches = new ArrayList<String>();\n",
    "pitches.add(138);\n",
    "pitches.add(129);\n",
    "pitches.add(142);\n",
    "\n",
    "pitches.add(2,\"세번째 삽입\");\n",
    "\n",
    "return pitches;"
   ]
  },
  {
   "cell_type": "markdown",
   "metadata": {},
   "source": [
    "### get"
   ]
  },
  {
   "cell_type": "code",
   "execution_count": 11,
   "metadata": {},
   "outputs": [
    {
     "data": {
      "text/plain": [
       "129"
      ]
     },
     "execution_count": 11,
     "metadata": {},
     "output_type": "execute_result"
    }
   ],
   "source": [
    "import java.util.ArrayList;\n",
    "import java.util.List;\n",
    "\n",
    "// 리스트 내부에 넣을 값의 타입을 지정할 수 있음\n",
    "ArrayList pitches = new ArrayList<String>();\n",
    "pitches.add(138);\n",
    "pitches.add(129);\n",
    "pitches.add(142);\n",
    "\n",
    "pitches.add(2,\"세번째 삽입\");\n",
    "\n",
    "return pitches.get(1);"
   ]
  },
  {
   "cell_type": "markdown",
   "metadata": {},
   "source": [
    "### size"
   ]
  },
  {
   "cell_type": "code",
   "execution_count": 12,
   "metadata": {},
   "outputs": [
    {
     "data": {
      "text/plain": [
       "4"
      ]
     },
     "execution_count": 12,
     "metadata": {},
     "output_type": "execute_result"
    }
   ],
   "source": [
    "import java.util.ArrayList;\n",
    "import java.util.List;\n",
    "\n",
    "// 리스트 내부에 넣을 값의 타입을 지정할 수 있음\n",
    "ArrayList pitches = new ArrayList<String>();\n",
    "pitches.add(138);\n",
    "pitches.add(129);\n",
    "pitches.add(142);\n",
    "\n",
    "pitches.add(2,\"세번째 삽입\");\n",
    "\n",
    "return pitches.size();"
   ]
  },
  {
   "cell_type": "markdown",
   "metadata": {},
   "source": [
    "### contains"
   ]
  },
  {
   "cell_type": "code",
   "execution_count": 15,
   "metadata": {},
   "outputs": [
    {
     "name": "stdout",
     "output_type": "stream",
     "text": [
      "false\n",
      "true\n"
     ]
    },
    {
     "data": {
      "text/plain": [
       "null"
      ]
     },
     "execution_count": 15,
     "metadata": {},
     "output_type": "execute_result"
    }
   ],
   "source": [
    "import java.util.ArrayList;\n",
    "import java.util.List;\n",
    "\n",
    "// 리스트 내부에 넣을 값의 타입을 지정할 수 있음\n",
    "ArrayList pitches = new ArrayList<String>();\n",
    "pitches.add(138);\n",
    "pitches.add(129);\n",
    "pitches.add(142);\n",
    "\n",
    "pitches.add(2,\"세번째 삽입\");\n",
    "\n",
    "System.out.println(pitches.contains(\"세번째\"));\n",
    "System.out.println(pitches.contains(\"세번째 삽입\"));"
   ]
  },
  {
   "cell_type": "markdown",
   "metadata": {},
   "source": [
    "### remove "
   ]
  },
  {
   "cell_type": "markdown",
   "metadata": {},
   "source": [
    "요건 용법이 다름\n",
    "\n",
    "1. remove(객체) - 직접 일치하는 객체를 찾아내서 없애고 결과 반환\n",
    "2. remove(인덱스) - 인덱스 해당하는 객체 제거 후 뭘 제거했는지 값을 반환"
   ]
  },
  {
   "cell_type": "code",
   "execution_count": 18,
   "metadata": {},
   "outputs": [
    {
     "name": "stdout",
     "output_type": "stream",
     "text": [
      "true\n"
     ]
    },
    {
     "data": {
      "text/plain": [
       "[138, 129, 142]"
      ]
     },
     "execution_count": 18,
     "metadata": {},
     "output_type": "execute_result"
    }
   ],
   "source": [
    "import java.util.ArrayList;\n",
    "import java.util.List;\n",
    "\n",
    "// 리스트 내부에 넣을 값의 타입을 지정할 수 있음\n",
    "ArrayList pitches = new ArrayList<String>();\n",
    "pitches.add(138);\n",
    "pitches.add(129);\n",
    "pitches.add(142);\n",
    "\n",
    "pitches.add(2,\"세번째 삽입\");\n",
    "System.out.println(pitches.remove(\"세번째 삽입\"));\n",
    "\n",
    "return pitches;"
   ]
  },
  {
   "cell_type": "code",
   "execution_count": 22,
   "metadata": {},
   "outputs": [
    {
     "name": "stdout",
     "output_type": "stream",
     "text": [
      "세번째 삽입\n"
     ]
    },
    {
     "data": {
      "text/plain": [
       "[138, 129, 142]"
      ]
     },
     "execution_count": 22,
     "metadata": {},
     "output_type": "execute_result"
    }
   ],
   "source": [
    "import java.util.ArrayList;\n",
    "import java.util.List;\n",
    "\n",
    "// 리스트 내부에 넣을 값의 타입을 지정할 수 있음\n",
    "ArrayList pitches = new ArrayList<String>();\n",
    "pitches.add(138);\n",
    "pitches.add(129);\n",
    "pitches.add(142);\n",
    "\n",
    "pitches.add(2,\"세번째 삽입\");\n",
    "System.out.println(pitches.remove(2));\n",
    "\n",
    "return pitches;"
   ]
  },
  {
   "cell_type": "code",
   "execution_count": null,
   "metadata": {},
   "outputs": [],
   "source": []
  }
 ],
 "metadata": {
  "kernelspec": {
   "display_name": "Java",
   "language": "java",
   "name": "java"
  },
  "language_info": {
   "codemirror_mode": "text/x-java",
   "file_extension": ".java",
   "mimetype": "",
   "name": "Java",
   "nbconverter_exporter": "",
   "version": "1.8.0_152-release"
  },
  "toc": {
   "base_numbering": 1,
   "nav_menu": {},
   "number_sections": false,
   "sideBar": false,
   "skip_h1_title": false,
   "title_cell": "Table of Contents",
   "title_sidebar": "Contents",
   "toc_cell": false,
   "toc_position": {},
   "toc_section_display": false,
   "toc_window_display": false
  }
 },
 "nbformat": 4,
 "nbformat_minor": 2
}
