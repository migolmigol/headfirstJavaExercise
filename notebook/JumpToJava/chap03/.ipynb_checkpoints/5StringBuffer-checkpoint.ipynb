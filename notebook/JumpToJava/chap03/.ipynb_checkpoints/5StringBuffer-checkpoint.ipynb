{
 "cells": [
  {
   "cell_type": "markdown",
   "metadata": {},
   "source": [
    "## 다른 언어에는 많이 있는 스트링 인터폴레이션 기능"
   ]
  },
  {
   "cell_type": "markdown",
   "metadata": {},
   "source": [
    "자바는 너무 괴랄하다.아니, 쓸데없는 겉치례(boilerplate) 가 많다.\n",
    "\n",
    "그리고 왜 아직까지 스트링 인터폴레이션 하나 편하게 쓸 수가 없는건데?"
   ]
  },
  {
   "cell_type": "markdown",
   "metadata": {},
   "source": [
    "자바 스크립트도 이렇게 편하게 되고."
   ]
  },
  {
   "cell_type": "code",
   "execution_count": 6,
   "metadata": {},
   "outputs": [
    {
     "data": {
      "text/html": [
       "<html><script>\n",
       "x = \"문자열\"\n",
       "a = `${x} 은 문자열이다.`\n",
       "</script></html>"
      ]
     },
     "execution_count": 6,
     "metadata": {},
     "output_type": "execute_result"
    }
   ],
   "source": [
    "%%html\n",
    "<script>\n",
    "x = \"문자열\"\n",
    "a = `${x} 은 문자열이다.`\n",
    "</script>"
   ]
  },
  {
   "cell_type": "markdown",
   "metadata": {},
   "source": [
    "스칼라도 이렇게 되는데"
   ]
  },
  {
   "cell_type": "code",
   "execution_count": 8,
   "metadata": {},
   "outputs": [
    {
     "name": "stdout",
     "output_type": "stream",
     "text": [
      "내 이름은 김똘뚱 이야\n"
     ]
    },
    {
     "data": {
      "text/plain": [
       "null"
      ]
     },
     "execution_count": 1,
     "metadata": {},
     "output_type": "execute_result"
    }
   ],
   "source": [
    "%%scala\n",
    "val 이름 = \"김똘뚱\"\n",
    "println(s\"내 이름은 $이름 이야\")\n"
   ]
  },
  {
   "cell_type": "markdown",
   "metadata": {},
   "source": [
    "왜 자바는 아직도 이따위여? "
   ]
  },
  {
   "cell_type": "code",
   "execution_count": 14,
   "metadata": {},
   "outputs": [
    {
     "data": {
      "text/plain": [
       "com.twosigma.beaker.javash.bkra0dd311f.Test"
      ]
     },
     "execution_count": 14,
     "metadata": {},
     "output_type": "execute_result"
    }
   ],
   "source": [
    "public class Test {\n",
    "    public static void main(String[] args) {\n",
    "        StringBuffer sb = new StringBuffer();\n",
    "        sb.append(\"hello\");\n",
    "        sb.append(\" \");\n",
    "        sb.append(\"jump to java\");\n",
    "        System.out.println(sb.toString());\n",
    "    }\n",
    "}"
   ]
  },
  {
   "cell_type": "code",
   "execution_count": 15,
   "metadata": {},
   "outputs": [
    {
     "name": "stdout",
     "output_type": "stream",
     "text": [
      "hello jump to java\n"
     ]
    },
    {
     "data": {
      "text/plain": [
       "null"
      ]
     },
     "execution_count": 15,
     "metadata": {},
     "output_type": "execute_result"
    }
   ],
   "source": [
    "String[] args ={\"a\",\"b\"};\n",
    "Test.main(args);c"
   ]
  },
  {
   "cell_type": "markdown",
   "metadata": {},
   "source": [
    "1.7 때 스칼라 나오고 1.8 때 람다도 나왔는데 왜 아직도 이럴까? \n",
    "사용자를 편하게 해줄 생각이 없는 언어 같다.\n",
    "\n",
    "자바 공부하기 너무 싫은 게 이따위로 꼭 편하게 할 수 있는 방법이 있는데도 아주아주아주 불편한 문법으로 코드를 왕창 작성해야 하기 때문이다.\n",
    "\n",
    "아 빡쳐."
   ]
  },
  {
   "cell_type": "markdown",
   "metadata": {},
   "source": [
    "##  그 기능이 없어서 자바가 Stringbuffer 로 하는 짓"
   ]
  },
  {
   "cell_type": "markdown",
   "metadata": {},
   "source": [
    "### append"
   ]
  },
  {
   "cell_type": "code",
   "execution_count": 22,
   "metadata": {},
   "outputs": [
    {
     "data": {
      "text/plain": [
       "com.twosigma.beaker.javash.bkra0dd311f.Test"
      ]
     },
     "execution_count": 22,
     "metadata": {},
     "output_type": "execute_result"
    }
   ],
   "source": [
    "public class Test {\n",
    "    public static void main(String[] args) {\n",
    "        \n",
    "        // 한 개의 StringBuffer 타입 변수에 계속 누적한다.\n",
    "        StringBuffer sb = new StringBuffer();\n",
    "        sb.append(\"hello\");\n",
    "        sb.append(\" \");\n",
    "        sb.append(\"jump to java\");\n",
    "        // 여기 까지는 sb 는 StringBuffer 타입\n",
    "        \n",
    "        // 그리고 println 에서 출력할 수 있게 String 타입으로 변환\n",
    "        System.out.println(sb.toString());\n",
    "    }\n",
    "}"
   ]
  },
  {
   "cell_type": "code",
   "execution_count": 23,
   "metadata": {},
   "outputs": [
    {
     "name": "stdout",
     "output_type": "stream",
     "text": [
      "hello jump to java\n"
     ]
    },
    {
     "data": {
      "text/plain": [
       "null"
      ]
     },
     "execution_count": 23,
     "metadata": {},
     "output_type": "execute_result"
    }
   ],
   "source": [
    "String[] args ={\"\"};\n",
    "Test.main(args);"
   ]
  },
  {
   "cell_type": "markdown",
   "metadata": {},
   "source": [
    "문자열 타입끼리의 + 연산을 사용해서 글자를 누적할 수도 있다.\n",
    "\n",
    "\\+ 연산은 기존의 변수 내용을 수정하는 게 아니라 새로운 String 객체를 리턴한다."
   ]
  },
  {
   "cell_type": "code",
   "execution_count": 27,
   "metadata": {},
   "outputs": [
    {
     "data": {
      "text/plain": [
       "com.twosigma.beaker.javash.bkra0dd311f.Test"
      ]
     },
     "execution_count": 27,
     "metadata": {},
     "output_type": "execute_result"
    }
   ],
   "source": [
    "public class Test {\n",
    "    public static void main(String[] args) {\n",
    "        // \"안녕\" 객체 생성\n",
    "        String sb = \"안녕\" \n",
    "            // \"안녕 \" 객체 생성\n",
    "            + \" \" \n",
    "            // \"안녕 점프 투 자바\" 객체 생성후 리턴\n",
    "            + \"점프 투 자바\";\n",
    "        \n",
    "        // 네 번의 String 타입 객체 생성 후 결과 출력\n",
    "        System.out.println(sb);\n",
    "    }\n",
    "}"
   ]
  },
  {
   "cell_type": "code",
   "execution_count": 28,
   "metadata": {},
   "outputs": [
    {
     "name": "stdout",
     "output_type": "stream",
     "text": [
      "안녕 점프 투 자바\n"
     ]
    },
    {
     "data": {
      "text/plain": [
       "null"
      ]
     },
     "execution_count": 28,
     "metadata": {},
     "output_type": "execute_result"
    }
   ],
   "source": [
    "String[] args ={\"\"};\n",
    "Test.main(args);"
   ]
  },
  {
   "cell_type": "markdown",
   "metadata": {},
   "source": [
    "스트링 버퍼 느리고 메모리 많이 잡아먹음. 그러니 문자열이 많이 변동되어야 한다 싶으면 쓰고, 몇 번 안되면 String 타입 쓰는게 좋음"
   ]
  },
  {
   "cell_type": "markdown",
   "metadata": {},
   "source": [
    "### insert"
   ]
  },
  {
   "cell_type": "code",
   "execution_count": 33,
   "metadata": {},
   "outputs": [
    {
     "data": {
      "text/plain": [
       "com.twosigma.beaker.javash.bkra0dd311f.Test"
      ]
     },
     "execution_count": 33,
     "metadata": {},
     "output_type": "execute_result"
    }
   ],
   "source": [
    "public class Test {\n",
    "    public static void main(String[] args) {\n",
    "        StringBuffer sb = new StringBuffer();\n",
    "        sb.append(\"쩜프 투잡봐\");\n",
    "        \n",
    "        // 0 번째 인덱스에 원하는 값을 삽입\n",
    "        sb.insert(0, \"가장 먼저 \");\n",
    "        System.out.println(sb.toString());\n",
    "    }\n",
    "}\n"
   ]
  },
  {
   "cell_type": "code",
   "execution_count": 34,
   "metadata": {},
   "outputs": [
    {
     "name": "stdout",
     "output_type": "stream",
     "text": [
      "가장 먼저 쩜프 투잡봐\n"
     ]
    },
    {
     "data": {
      "text/plain": [
       "null"
      ]
     },
     "execution_count": 34,
     "metadata": {},
     "output_type": "execute_result"
    }
   ],
   "source": [
    "String[] args ={\"\"};\n",
    "Test.main(args);"
   ]
  },
  {
   "cell_type": "markdown",
   "metadata": {},
   "source": [
    "### substring"
   ]
  },
  {
   "cell_type": "code",
   "execution_count": 40,
   "metadata": {},
   "outputs": [
    {
     "data": {
      "text/plain": [
       "com.twosigma.beaker.javash.bkra0dd311f.Test"
      ]
     },
     "execution_count": 40,
     "metadata": {},
     "output_type": "execute_result"
    }
   ],
   "source": [
    "public class Test {\n",
    "    public static void main(String[] args) {\n",
    "        StringBuffer sb = new StringBuffer();\n",
    "        sb.append(\"잡빠로 뽜죠 볼래요?\");\n",
    "        \n",
    "        System.out.println(sb.substring(4));\n",
    "    }\n",
    "}"
   ]
  },
  {
   "cell_type": "code",
   "execution_count": 41,
   "metadata": {},
   "outputs": [
    {
     "name": "stdout",
     "output_type": "stream",
     "text": [
      "뽜죠 볼래요?\n"
     ]
    },
    {
     "data": {
      "text/plain": [
       "null"
      ]
     },
     "execution_count": 41,
     "metadata": {},
     "output_type": "execute_result"
    }
   ],
   "source": [
    "String[] args ={\"\"};\n",
    "Test.main(args);"
   ]
  },
  {
   "cell_type": "markdown",
   "metadata": {},
   "source": [
    "끄으... 자바 이눔씨끼.. 스칼라에서 할 수 있다고 보여줬는데도 왜 안하는 것이냐... 대체.. ㅠㅠ 끄으."
   ]
  }
 ],
 "metadata": {
  "kernelspec": {
   "display_name": "Java",
   "language": "java",
   "name": "java"
  },
  "language_info": {
   "codemirror_mode": "text/x-java",
   "file_extension": ".java",
   "mimetype": "",
   "name": "Java",
   "nbconverter_exporter": "",
   "version": "1.8.0_152-release"
  },
  "toc": {
   "base_numbering": 1,
   "nav_menu": {},
   "number_sections": false,
   "sideBar": false,
   "skip_h1_title": false,
   "title_cell": "Table of Contents",
   "title_sidebar": "Contents",
   "toc_cell": false,
   "toc_position": {},
   "toc_section_display": false,
   "toc_window_display": false
  }
 },
 "nbformat": 4,
 "nbformat_minor": 2
}
