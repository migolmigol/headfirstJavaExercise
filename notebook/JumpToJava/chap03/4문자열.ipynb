{
 "cells": [
  {
   "cell_type": "code",
   "execution_count": 1,
   "metadata": {},
   "outputs": [
    {
     "data": {
      "text/plain": [
       "null"
      ]
     },
     "execution_count": 1,
     "metadata": {},
     "output_type": "execute_result"
    }
   ],
   "source": [
    "String a = \"123\";\n",
    "String b = \"a\";\n",
    "String c = \"abra kadabra\";"
   ]
  },
  {
   "cell_type": "markdown",
   "metadata": {},
   "source": [
    "## 원시 자료형"
   ]
  },
  {
   "cell_type": "markdown",
   "metadata": {},
   "source": [
    "java 에서 기본 제공하는 자료형. new 키워드로 생성 못함.\n",
    "\n",
    "int, long, double, float, boolean, char\n",
    "\n",
    "이 자료형에는 계산식 없이 상수값을 바로 할당하는 방식인 리터럴을 사용할 수 있다."
   ]
  },
  {
   "cell_type": "code",
   "execution_count": null,
   "metadata": {},
   "outputs": [],
   "source": [
    "int x = 3; // 계산식 없이 상수값 할당\n",
    "char c = 's' // 계산식 없이 상수값 할당"
   ]
  },
  {
   "cell_type": "markdown",
   "metadata": {},
   "source": [
    "단, String 은.. 맨 앞 글자가 대문자인 것을 보면 감이 오겠지만, 원시 자료형은 아니다."
   ]
  },
  {
   "cell_type": "code",
   "execution_count": null,
   "metadata": {},
   "outputs": [],
   "source": [
    "String a = \"상수세팅\" // 리터럴 용법으로 샤용할 수 있으나\n",
    "a.equals('상수세팅') // String 타입은 객체다.    "
   ]
  },
  {
   "cell_type": "markdown",
   "metadata": {},
   "source": [
    "## String 타입 메소드"
   ]
  },
  {
   "cell_type": "markdown",
   "metadata": {},
   "source": [
    "### equals"
   ]
  },
  {
   "cell_type": "code",
   "execution_count": 17,
   "metadata": {},
   "outputs": [
    {
     "name": "stdout",
     "output_type": "stream",
     "text": [
      "false\n",
      "true\n"
     ]
    },
    {
     "data": {
      "text/plain": [
       "true"
      ]
     },
     "execution_count": 17,
     "metadata": {},
     "output_type": "execute_result"
    }
   ],
   "source": [
    "String a = \"hello\"; // 내부풀에 저장 및 캐쉬\n",
    "String b = \"java\";  // 내부풀에 새로 저장 및 캐쉬\n",
    "String c = \"hello\"; // 아까 담긴 'hello'랑 똑같으니까 캐쉬된거 씀.\n",
    "System.out.println(a.equals(b)); // false\n",
    "System.out.println(a.equals(c)); // true\n",
    "\n",
    "return a == c; // a 나 b 나 둘다 똑같은 내부 풀에 저장된 똑같은 'hello' 사용"
   ]
  },
  {
   "cell_type": "markdown",
   "metadata": {},
   "source": [
    "== 는 두 개의 자료형이 동일한 객체인지를 판별한다. 그래서 문자열 비교는 equals 메소드로 하는게 좋다."
   ]
  },
  {
   "cell_type": "code",
   "execution_count": null,
   "metadata": {},
   "outputs": [],
   "source": [
    "String a = \"똑같\"; // 이건 내부 intern poll 에 담기고 캐쉬돔. 이후 \"똑같\" 이 또 할당되면 캐쉬된거 씀.\n",
    "String b = new String(\"똑같\"); // 새로운 String 타입의 객체 생성.\n",
    "\n",
    "System.out.println(a.equals(b)); // String 타입의 a,b 객체 내부의 값을 비교한다.\n",
    "System.out.println(a === b); // String 타입의 a 와 b 가 같은 객체인지를 비교한다."
   ]
  },
  {
   "cell_type": "markdown",
   "metadata": {},
   "source": [
    "### indexOf"
   ]
  },
  {
   "cell_type": "markdown",
   "metadata": {},
   "source": [
    "무슨 말이 필요할까. 같은 값이 있는 인덱스 반환."
   ]
  },
  {
   "cell_type": "code",
   "execution_count": 4,
   "metadata": {},
   "outputs": [
    {
     "name": "stdout",
     "output_type": "stream",
     "text": [
      "0\n",
      "1\n"
     ]
    },
    {
     "data": {
      "text/plain": [
       "null"
      ]
     },
     "execution_count": 4,
     "metadata": {},
     "output_type": "execute_result"
    }
   ],
   "source": [
    "String a = \"똑같\";\n",
    "System.out.println(a.indexOf(\"똑\"));\n",
    "System.out.println(a.indexOf(\"같\"));"
   ]
  },
  {
   "cell_type": "code",
   "execution_count": 6,
   "metadata": {},
   "outputs": [
    {
     "name": "stdout",
     "output_type": "stream",
     "text": [
      "5\n",
      "11\n"
     ]
    },
    {
     "data": {
      "text/plain": [
       "null"
      ]
     },
     "execution_count": 6,
     "metadata": {},
     "output_type": "execute_result"
    }
   ],
   "source": [
    "String a = \"똑같아요 자바는요 지루하다\";\n",
    "System.out.println(a.indexOf(\"자바\"));\n",
    "System.out.println(a.indexOf(\"루하다\"));"
   ]
  },
  {
   "cell_type": "markdown",
   "metadata": {},
   "source": [
    "### replaceAll"
   ]
  },
  {
   "cell_type": "markdown",
   "metadata": {},
   "source": [
    "특정 문자열을 모두 찾아서 원하는 문자열로 바꾸기"
   ]
  },
  {
   "cell_type": "code",
   "execution_count": 7,
   "metadata": {},
   "outputs": [
    {
     "data": {
      "text/plain": [
       "특정 ㅋㅋ 트윽저엉 무운짜아이어어얼 ㅋㅋ"
      ]
     },
     "execution_count": 7,
     "metadata": {},
     "output_type": "execute_result"
    }
   ],
   "source": [
    "String a = \"특정 문자열 트윽저엉 무운짜아이어어얼 문자열\";\n",
    "return a.replaceAll(\"문자열\", \"ㅋㅋ\");"
   ]
  },
  {
   "cell_type": "markdown",
   "metadata": {},
   "source": [
    "### substring"
   ]
  },
  {
   "cell_type": "markdown",
   "metadata": {},
   "source": [
    "문자열 중 특정 부분 뽑아낼 경우 사용"
   ]
  },
  {
   "cell_type": "code",
   "execution_count": 12,
   "metadata": {},
   "outputs": [
    {
     "data": {
      "text/plain": [
       "자바는요 지루"
      ]
     },
     "execution_count": 12,
     "metadata": {},
     "output_type": "execute_result"
    }
   ],
   "source": [
    "String a = \"똑같아요 자바는요 지루하다\";\n",
    "return a.substring(5,12);"
   ]
  },
  {
   "cell_type": "markdown",
   "metadata": {},
   "source": [
    "### toUpperCase"
   ]
  },
  {
   "cell_type": "markdown",
   "metadata": {},
   "source": [
    "곳통! 곳통 끄으.. 투 어퍼케이스는 당연히 대문자 화 하는거지!! 근데 이걸 왜 또 적어야하냐! 곷통!!"
   ]
  },
  {
   "cell_type": "code",
   "execution_count": 13,
   "metadata": {},
   "outputs": [
    {
     "data": {
      "text/plain": [
       "SMALL"
      ]
     },
     "execution_count": 13,
     "metadata": {},
     "output_type": "execute_result"
    }
   ],
   "source": [
    "String smallLetter = \"small\";\n",
    "return smallLetter.toUpperCase();"
   ]
  },
  {
   "cell_type": "code",
   "execution_count": null,
   "metadata": {},
   "outputs": [],
   "source": []
  }
 ],
 "metadata": {
  "kernelspec": {
   "display_name": "Java",
   "language": "java",
   "name": "java"
  },
  "language_info": {
   "codemirror_mode": "text/x-java",
   "file_extension": ".java",
   "mimetype": "",
   "name": "Java",
   "nbconverter_exporter": "",
   "version": "1.8.0_152-release"
  },
  "toc": {
   "base_numbering": 1,
   "nav_menu": {},
   "number_sections": false,
   "sideBar": false,
   "skip_h1_title": false,
   "title_cell": "Table of Contents",
   "title_sidebar": "Contents",
   "toc_cell": false,
   "toc_position": {},
   "toc_section_display": false,
   "toc_window_display": false
  }
 },
 "nbformat": 4,
 "nbformat_minor": 2
}
