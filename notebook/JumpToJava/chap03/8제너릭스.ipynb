{
 "cells": [
  {
   "cell_type": "markdown",
   "metadata": {},
   "source": [
    "변수 타입 제한 할 수 있다.\n",
    "\n",
    "```java\n",
    "int a;\n",
    "\n",
    "```\n",
    "\n",
    "변수 하나에 타입은 사용자가 만든 타입으로 제한할 수도 있다.\n",
    "```java\n",
    "\n",
    "class customType{\n",
    "}\n",
    "\n",
    "customType a;\n",
    "\n",
    "```\n",
    "\n",
    "\n",
    "그럼 임의의 클래스나 인터페이스로 만든 배열 타입 내부에 들어갈 값은 어떻게 제한할까?"
   ]
  },
  {
   "cell_type": "code",
   "execution_count": 14,
   "metadata": {},
   "outputs": [
    {
     "name": "stdout",
     "output_type": "stream",
     "text": [
      "class java.lang.String\n",
      "class java.lang.Integer\n",
      "class java.lang.Boolean\n"
     ]
    },
    {
     "data": {
      "text/plain": [
       "[138, 248, true]"
      ]
     },
     "execution_count": 14,
     "metadata": {},
     "output_type": "execute_result"
    }
   ],
   "source": [
    "import java.util.ArrayList;\n",
    "import java.util.List;\n",
    "\n",
    "ArrayList pitches = new ArrayList();\n",
    "pitches.add(\"138\");\n",
    "pitches.add(248);\n",
    "pitches.add(true);\n",
    "\n",
    "System.out.println(pitches.get(0).getClass());\n",
    "System.out.println(pitches.get(1).getClass());\n",
    "System.out.println(pitches.get(2).getClass());\n",
    "\n",
    "return pitches;"
   ]
  },
  {
   "cell_type": "markdown",
   "metadata": {},
   "source": [
    "제한이 안 된다. 자바는 컴파일 시점에서 배열 내부의 모든 객체의 타입을 지워버리고 기본 Object 타입으로 바꿔 버린다.\n",
    "\n",
    "~~그래서 꺼내서 타입 체크하면 Object 라서 형변환을 해줘야 한...~~\n",
    "\n",
    "뭐지? 옛날에는 Object 였는데? 꺼낼 때 넣은 타입 그대로 유지되네? 이상타. 이거 jupyter notebook java kernal 에서만 그런 건가?\n",
    "\n",
    "여튼, 컴파일 때 타입을 지워 버리면 런타임 때 꺼내서 어떤 연산을 하려고 할 때 타입이 안 맞아서 오류가 날 수도 있고, 그것 때문에 매번 형변환을 해줘야 하면 너무 번거롭다.\n",
    "\n",
    "더 자세한 이야는 나중에 하고. 일단 제너릭`<>`을 통해서 배열 내부에 들어갈 타입을 제한할 수 있다."
   ]
  },
  {
   "cell_type": "code",
   "execution_count": 9,
   "metadata": {},
   "outputs": [
    {
     "ename": "no suitable method found for add(int)",
     "evalue": "no suitable method found for add(int)",
     "output_type": "error",
     "traceback": [
      "\u001b[1;31mno suitable method found for add(int)\u001b[0;0m",
      "\u001b[1;31m    method java.util.Collection.add(java.lang.String) is not applicable\u001b[0;0m",
      "\u001b[1;31m      (argument mismatch; int cannot be converted to java.lang.String)\u001b[0;0m",
      "\u001b[1;31m    method java.util.List.add(java.lang.String) is not applicable\u001b[0;0m",
      "\u001b[1;31m      (argument mismatch; int cannot be converted to java.lang.String)\u001b[0;0m",
      "\u001b[1;31m    method java.util.AbstractCollection.add(java.lang.String) is not applicable\u001b[0;0m",
      "\u001b[1;31m      (argument mismatch; int cannot be converted to java.lang.String)\u001b[0;0m",
      "\u001b[1;31m    method java.util.AbstractList.add(java.lang.String) is not applicable\u001b[0;0m",
      "\u001b[1;31m      (argument mismatch; int cannot be converted to java.lang.String)\u001b[0;0m",
      "\u001b[1;31m    method java.util.ArrayList.add(java.lang.String) is not applicable\u001b[0;0m",
      "\u001b[1;31m      (argument mismatch; int cannot be converted to java.lang.String)\u001b[0;0m",
      "\u001b[1;31m pitches.add(248)\u001b[0;0m",
      "\u001b[1;31m ^          ^      \u001b[0;0m",
      "\u001b[1;31m\u001b[0;0m",
      "\u001b[1;31mSome messages have been simplified; recompile with -Xdiags:verbose to get full output\u001b[0;0m"
     ]
    }
   ],
   "source": [
    "import java.util.ArrayList;\n",
    "import java.util.List;\n",
    "\n",
    "ArrayList<String> pitches = new ArrayList<String>();\n",
    "\n",
    "pitches.add(\"138\");\n",
    "pitches.add(248);\n",
    "// pitches.add(true);\n",
    "\n",
    "return pitches;"
   ]
  },
  {
   "cell_type": "markdown",
   "metadata": {},
   "source": []
  }
 ],
 "metadata": {
  "kernelspec": {
   "display_name": "Java",
   "language": "java",
   "name": "java"
  },
  "language_info": {
   "codemirror_mode": "text/x-java",
   "file_extension": ".java",
   "mimetype": "",
   "name": "Java",
   "nbconverter_exporter": "",
   "version": "1.8.0_152-release"
  },
  "toc": {
   "base_numbering": 1,
   "nav_menu": {},
   "number_sections": false,
   "sideBar": false,
   "skip_h1_title": false,
   "title_cell": "Table of Contents",
   "title_sidebar": "Contents",
   "toc_cell": false,
   "toc_position": {},
   "toc_section_display": false,
   "toc_window_display": false
  }
 },
 "nbformat": 4,
 "nbformat_minor": 2
}
